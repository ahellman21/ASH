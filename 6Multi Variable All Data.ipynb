{
 "cells": [
  {
   "cell_type": "code",
   "execution_count": 1,
   "metadata": {
    "collapsed": false
   },
   "outputs": [],
   "source": [
    "%matplotlib inline\n",
    "import pandas as pd\n",
    "import numpy as np\n",
    "import matplotlib.pyplot as plt\n",
    "import matplotlib as mpl\n",
    "import seaborn as sns\n",
    "\n",
    "from sklearn.tree import DecisionTreeClassifier\n",
    "from sklearn.ensemble import BaggingClassifier\n",
    "from sklearn.ensemble import AdaBoostClassifier\n",
    "from sklearn.metrics import confusion_matrix\n",
    "\n",
    "from sklearn.neighbors import KNeighborsClassifier as KNN\n",
    "\n",
    "import warnings\n",
    "warnings.filterwarnings('ignore')"
   ]
  },
  {
   "cell_type": "code",
   "execution_count": 2,
   "metadata": {
    "collapsed": true
   },
   "outputs": [],
   "source": [
    "#Ob_set is the Obesity set of date. It has the obesity rates from 2004 - 2012 per county\n",
    "#Lets load in the data toutilize it further\n",
    "#\"number yyyy\" is the percentage of obese idividuals based on the surverys done each year for the entire county\n",
    "Obset = pd.read_excel(\"OB_PREV_ALL_STATES.xlsx\", \"obesity\")\n",
    "#Remove all the extra data in the Obesity list to leave just the numbers and % obese per county\n",
    "for col in Obset.columns[3:]:\n",
    "    if 'number' not in col and 'percent' not in col or 'age' in col:\n",
    "        del Obset[col]\n",
    "\n",
    "for col in Obset.columns[3:]:\n",
    "    if '2009' not in col and '2012' not in col and '2010' not in col:\n",
    "        del Obset[col]\n",
    "        \n",
    "#delete any NaN values for a better data set\n",
    "Obset = Obset.dropna(how='any')\n",
    "\n",
    "#Sort the set by FIPS nuber\n",
    "Obset = Obset.sort(columns='FIPS Codes', axis=0)"
   ]
  },
  {
   "cell_type": "code",
   "execution_count": 3,
   "metadata": {
    "collapsed": false
   },
   "outputs": [],
   "source": [
    "#Food Access Data\n",
    "FoodAccess = pd.read_excel(\"FoodSecAllup.xls\", 'ACCESS')\n",
    "#Food Security\n",
    "Restaurants = pd.read_excel(\"FoodSecAllup.xls\", 'RESTAURANTS')\n",
    "#Food Stores Density\n",
    "Stores = pd.read_excel(\"FoodSecAllup.xls\", 'STORES')\n",
    "#Farmers Market Data\n",
    "FarmMkt = pd.read_csv(\"Farmers_market_Dir.csv\")\n",
    "#Food Assistance Data\n",
    "Assistance = pd.read_excel(\"FoodSecAllup.xls\", \"ASSISTANCE\")\n",
    "#Food Inseciruty Data\n",
    "Insecurity = pd.read_excel(\"FoodSecAllup.xls\", \"INSECURITY\")\n",
    "#Food Local Data\n",
    "Local = pd.read_excel(\"FoodSecAllup.xls\", \"LOCAL\")\n",
    "#Food Prices and Taxes\n",
    "FPrices = pd.read_excel(\"FoodSecAllup.xls\", \"PRICES_TAXES\")\n",
    "#Socioeconomic factors \n",
    "SociEcon = pd.read_excel(\"FoodSecAllup.xls\", \"SOCIOECONOMIC\")"
   ]
  },
  {
   "cell_type": "markdown",
   "metadata": {},
   "source": [
    "#### Famers Markets\n",
    "This code finds how many farmers markets there are per county and then merges them to the Obesity data set on a County/State key that is necessary as the Farmers Markets data does not have the FIPS code which would designate which county the market is in."
   ]
  },
  {
   "cell_type": "code",
   "execution_count": 4,
   "metadata": {
    "collapsed": true
   },
   "outputs": [],
   "source": [
    "#Drop (remove) the columns in the farmers market data set that we dont need\n",
    "#remove all coumns but 9 & 10\n",
    "FarmMkt = FarmMkt.drop(FarmMkt.columns[1:8], axis=1)#,inplace=True)\n",
    "FarmMkt = FarmMkt.drop(FarmMkt.columns[4:], axis=1)\n",
    "FarmMkt = FarmMkt.dropna(subset=['County'], how='all') #drop all rows that have any NaN values\n",
    "\n",
    "#make a new column in FarmMkt and Obset to be a key to match the county/state pair\n",
    "Obset['CSKey'] = Obset[['County','State']].sum(axis=1)\n",
    "FarmMkt['CSKey'] = FarmMkt[['County','State']].sum(axis=1)\n",
    "\n",
    "#New frame for the group by for the farmers market data\n",
    "NewFrame = FarmMkt.groupby('CSKey').count()\n",
    "NewFrame = NewFrame.drop(NewFrame.columns[1:], axis=1)\n",
    "NewFrame.columns = ['FarmersMkts Per County']\n",
    "#then merge it with the OBesity set to have the Fearmers market counts\n",
    "#Obset['FarmersMkts Per County'] = Obset.merge(NewFrame, on=NewFrame.index, how='left')\n",
    "Obset = pd.merge(Obset, NewFrame, how='left', left_on='CSKey',left_index=False, right_index=True, sort=True, copy=True)\n",
    "#then drop the Key from the Obset data as no longer needed\n",
    "Obset = Obset.drop(Obset.columns[Obset.columns.get_loc('CSKey')], axis=1)\n",
    "#Change all the Nan values in the Famers count to 0\n",
    "Obset['FarmersMkts Per County'] = Obset['FarmersMkts Per County'].fillna(int(0))\n",
    "#Change all the Farmers market vals to ints\n",
    "Obset['FarmersMkts Per County'] = Obset['FarmersMkts Per County'].astype(int)"
   ]
  },
  {
   "cell_type": "markdown",
   "metadata": {},
   "source": [
    "#### Low Access to Grocery Stores\n",
    "This code combines the Grocery store access data with the obesity set. \n",
    "\n",
    "3 Data Sets: \n",
    "1. Population's with low access to grocery stores\n",
    "2. Population with Low income access to grocery stores\n",
    "3. Population with no car and low income access to grocery stores"
   ]
  },
  {
   "cell_type": "code",
   "execution_count": 5,
   "metadata": {
    "collapsed": false
   },
   "outputs": [],
   "source": [
    "#Remove the FoodAcces columns we wont use:\n",
    "for col in FoodAccess.columns[3:]:\n",
    "    if 'PCT' not in col:\n",
    "        del FoodAccess[col]\n",
    "\n",
    "FoodAccess = FoodAccess.drop('PCT_LACCESS_CHILD10', axis=1)\n",
    "FoodAccess = FoodAccess.drop('PCT_LACCESS_SENIORS10', axis=1)"
   ]
  },
  {
   "cell_type": "code",
   "execution_count": 6,
   "metadata": {
    "collapsed": true
   },
   "outputs": [],
   "source": [
    "#Merge the Access data to the Obset\n",
    "Obset = pd.merge(Obset, FoodAccess.ix[:,3:], how='left', left_on='FIPS Codes',right_on ='FIPS',left_index=True, right_index=True, sort=True, copy=True)"
   ]
  },
  {
   "cell_type": "markdown",
   "metadata": {},
   "source": [
    "#### Grocery Stores and SuperCenters\n",
    "\n",
    "4 Data Sets: \n",
    "1. Grocery Stores per 1000 people\n",
    "2. Supercenters per 1000 people\n",
    "3. Convenience Stores per 1000 people\n",
    "4. SNAP accepting Stores per 1000 people"
   ]
  },
  {
   "cell_type": "code",
   "execution_count": 7,
   "metadata": {
    "collapsed": true
   },
   "outputs": [],
   "source": [
    "#Remove the FoodAcces columns we wont use:\n",
    "for col in Stores.columns[3:]:\n",
    "    if 'PTH12' not in col:\n",
    "        del Stores[col]\n",
    "\n",
    "Stores = Stores.drop('SPECSPTH12', axis=1)\n",
    "Stores = Stores.drop('WICSPTH12', axis=1)"
   ]
  },
  {
   "cell_type": "code",
   "execution_count": 8,
   "metadata": {
    "collapsed": true
   },
   "outputs": [],
   "source": [
    "#Merge Restaurants\n",
    "Obset = pd.merge(Obset, Stores.ix[:,3:], how='left', left_on='FIPS Codes',right_on ='FIPS',left_index=True, right_index=True, sort=True, copy=True)"
   ]
  },
  {
   "cell_type": "markdown",
   "metadata": {},
   "source": [
    "#### Restaurants\n",
    "This code combines the Restaurant data with the obesity set. I will use the expenditure change from 02-07 to estimate the amount for 2012. \n",
    "\n",
    "4 Data Sets: \n",
    "1. Fast Food restaurants per 1000 people (2012)\n",
    "2. Restaurants per 1000 people (2012)\n",
    "3. Fast Food Restaurant Expenditures per capita (2012 estimate)\n",
    "4. Restaurant Expenditures per capita (2012 estimate)\n",
    "\n",
    "Estiamte Expenditures per capita: (2007/2002)*2007"
   ]
  },
  {
   "cell_type": "code",
   "execution_count": 9,
   "metadata": {
    "collapsed": true
   },
   "outputs": [],
   "source": [
    "#Remove the FoodAcces columns we wont use:\n",
    "for col in Restaurants.columns[3:]:\n",
    "    if 'PTH12' not in col and 'PC_F' not in col:\n",
    "        del Restaurants[col]"
   ]
  },
  {
   "cell_type": "code",
   "execution_count": 10,
   "metadata": {
    "collapsed": true
   },
   "outputs": [],
   "source": [
    "#Find the change in expenditures and use this to estimate 2012\n",
    "Restaurants['PC_FFRSALES12'] = ( Restaurants['PC_FFRSALES07'] / Restaurants['PC_FFRSALES02'] ) * Restaurants['PC_FFRSALES07']\n",
    "Restaurants['PC_FSRSALES12'] = ( Restaurants['PC_FSRSALES07'] / Restaurants['PC_FSRSALES02'] ) * Restaurants['PC_FSRSALES07']"
   ]
  },
  {
   "cell_type": "code",
   "execution_count": 11,
   "metadata": {
    "collapsed": false
   },
   "outputs": [],
   "source": [
    "#Remove the now unneeded expenditure columns\n",
    "Restaurants = Restaurants.drop('PC_FFRSALES02', axis=1)\n",
    "Restaurants = Restaurants.drop('PC_FFRSALES07', axis=1)\n",
    "Restaurants = Restaurants.drop('PC_FSRSALES02', axis=1)\n",
    "Restaurants = Restaurants.drop('PC_FSRSALES07', axis=1)"
   ]
  },
  {
   "cell_type": "code",
   "execution_count": 12,
   "metadata": {
    "collapsed": true
   },
   "outputs": [],
   "source": [
    "#Merge Restaurants\n",
    "Obset = pd.merge(Obset, Restaurants.ix[:,3:], how='left', left_on='FIPS Codes',right_on ='FIPS',left_index=True, right_index=True, sort=True, copy=True)"
   ]
  },
  {
   "cell_type": "markdown",
   "metadata": {},
   "source": [
    "#### Low Income Food Assistance\n",
    "\n",
    "8 Data Sets: \n",
    "1. SNAP redemptions/SNAP-authorized stores, 2012\n",
    "2. SNAP participants (% pop), 2009\n",
    "3. SNAP benefits per capita, 2010\n",
    "4. SNAP participants (% eligible pop), 2010*\n",
    "5. National School Lunch Program participants (% pop), 2009\n",
    "6. Students eligible for free lunch (%), 2010\n",
    "7. Students eligible for reduced-price lunch (%), 2010\n",
    "8. SchoolSchool Breakfast Program participants (% pop), 2009"
   ]
  },
  {
   "cell_type": "code",
   "execution_count": 13,
   "metadata": {
    "collapsed": false
   },
   "outputs": [],
   "source": [
    "Keep = ['FIPS','REDEMP_SNAPS12','PCT_SNAP09','PC_SNAPBEN10',\n",
    " 'SNAP_PART_RATE10','PCT_NSLP09','PCT_FREE_LUNCH10','PCT_REDUCED_LUNCH10','PCT_SBP09']\n",
    "Assistance2 = Assistance[Keep]"
   ]
  },
  {
   "cell_type": "code",
   "execution_count": 14,
   "metadata": {
    "collapsed": true
   },
   "outputs": [],
   "source": [
    "#Merge Assistance2\n",
    "Obset = pd.merge(Obset, Assistance2.ix[:,1:], how='left', left_on='FIPS Codes',right_on ='FIPS',left_index=True, right_index=True, sort=True, copy=True)"
   ]
  },
  {
   "cell_type": "markdown",
   "metadata": {},
   "source": [
    "#### Food Insecurity\n",
    "\n",
    "2 Data Sets: \n",
    "1. Household food insecurity (%, three-year average), 2010-12\n",
    "2. Household very low food security (%, three-year average), 2010-12"
   ]
  },
  {
   "cell_type": "code",
   "execution_count": 15,
   "metadata": {
    "collapsed": false
   },
   "outputs": [],
   "source": [
    "Keep = ['FIPS','FOODINSEC_10_12','VLFOODSEC_10_12']\n",
    "Insecurity2 = Insecurity[Keep]"
   ]
  },
  {
   "cell_type": "code",
   "execution_count": 16,
   "metadata": {
    "collapsed": true
   },
   "outputs": [],
   "source": [
    "#Merge Assistance2\n",
    "Obset = pd.merge(Obset, Insecurity2.ix[:,1:], how='left', left_on='FIPS Codes',right_on ='FIPS',left_index=True, right_index=True, sort=True, copy=True)"
   ]
  },
  {
   "cell_type": "markdown",
   "metadata": {},
   "source": [
    "#### Local food Factors\n",
    "\n",
    "2 Data Sets: \n",
    "1. Farmers' markets, 2013"
   ]
  },
  {
   "cell_type": "code",
   "execution_count": 17,
   "metadata": {
    "collapsed": true
   },
   "outputs": [],
   "source": [
    "Keep = ['FIPS', 'FMRKT13']\n",
    "Local2 = Local[Keep]"
   ]
  },
  {
   "cell_type": "code",
   "execution_count": 18,
   "metadata": {
    "collapsed": false
   },
   "outputs": [],
   "source": [
    "#Merge Assistance2\n",
    "Obset2 = pd.merge(Obset, Local2.ix[:,1:], how='left', left_on='FIPS Codes',right_on ='FIPS',left_index=True, right_index=True, sort=True, copy=True)"
   ]
  },
  {
   "cell_type": "code",
   "execution_count": 19,
   "metadata": {
    "collapsed": false
   },
   "outputs": [],
   "source": [
    "Obset2['FDiff'] = Obset2['FarmersMkts Per County'] - Obset2['FMRKT13']"
   ]
  },
  {
   "cell_type": "code",
   "execution_count": 20,
   "metadata": {
    "collapsed": true
   },
   "outputs": [],
   "source": [
    "def plot_confusion_matrix(cm, title='Confusion matrix', cmap=plt.cm.Blues):\n",
    "    plt.imshow(cm, interpolation='nearest', cmap=cmap)\n",
    "    plt.title(title)\n",
    "    plt.colorbar()\n",
    "    plt.tight_layout()\n",
    "    plt.ylabel('True label')\n",
    "    plt.xlabel('Predicted label')"
   ]
  },
  {
   "cell_type": "markdown",
   "metadata": {},
   "source": [
    "## Multivariable Regression\n",
    "\n",
    "Here I will use the sklearn linear_model to see if there is any relationship between the many variables that I have loaded into the Obset"
   ]
  },
  {
   "cell_type": "markdown",
   "metadata": {},
   "source": [
    "Column Name| Description\n",
    "-|-\n",
    "FarmersMkts Per County| Farmers Markets Per County  \n",
    "PCT_LACCESS_POP10| Percent of the popultion who have access to grocery stores  \n",
    "PCT_LACCESS_LOWI10| Low Income Percent of the popultion who have access to grocery stores  \n",
    "PCT_LACCESS_HHNV10| Low Income Percent of the popultion who have access to grocery stores without a car  \n",
    "GROCPTH12| Grocery stores per 1000 people  \n",
    "SUPERCPTH12| Supercenters per 1000 people  \n",
    "CONVSPTH12| Convenience Stores per 1000 people  \n",
    "SNAPSPTH12| SNAP-authorized stores per 1,000 people  \n",
    "FFRPTH12| Fast-food restaurants per 1,000 people  \n",
    "FSRPTH12| Full-service restaurants per 1,000 people  \n",
    "PC_FFRSALES12| Expenditures per capita, fast food  \n",
    "PC_FSRSALES12| Expenditures per capita, full service restaurant  \n",
    "REDEMP_SNAPS12| SNAP redemptions/SNAP-authorized stores  \n",
    "PCT_SNAP09| SNAP participants (% pop)  \n",
    "PC_SNAPBEN10| SNAP benefits per capita  \n",
    "SNAP_PART_RATE10| SNAP participants (% eligible pop)  \n",
    "PCT_NSLP09| National School Lunch Program participants (% pop)  \n",
    "PCT_FREE_LUNCH10| Students eligible for free lunch (%)  \n",
    "PCT_REDUCED_LUNCH10| Students eligible for reduced-price lunch (%)  \n",
    "PCT_SBP09| School Breakfast Program participants (% pop)  \n",
    "FOODINSEC_10_12| Household food insecurity (%, three-year average)  \n",
    "VLFOODSEC_10_12| Household very low food security (%, three-year average)\n"
   ]
  },
  {
   "cell_type": "code",
   "execution_count": 21,
   "metadata": {
    "collapsed": false
   },
   "outputs": [],
   "source": [
    "from sklearn import linear_model\n",
    "from sklearn import cross_validation\n",
    "\n",
    "ObsetRun = Obset.dropna(how='any')"
   ]
  },
  {
   "cell_type": "code",
   "execution_count": 22,
   "metadata": {
    "collapsed": true
   },
   "outputs": [],
   "source": [
    "ColNames = ['FarmersMkts Per County', 'PCT_LACCESS_POP10','PCT_LACCESS_LOWI10', 'PCT_LACCESS_HHNV10', 'GROCPTH12',\n",
    "       'SUPERCPTH12', 'CONVSPTH12', 'SNAPSPTH12', 'FFRPTH12','FSRPTH12', 'PC_FFRSALES12', 'PC_FSRSALES12', 'REDEMP_SNAPS12',\n",
    "       'PCT_SNAP09', 'PC_SNAPBEN10', 'SNAP_PART_RATE10', 'PCT_NSLP09','PCT_FREE_LUNCH10', 'PCT_REDUCED_LUNCH10', 'PCT_SBP09',\n",
    "       'FOODINSEC_10_12', 'VLFOODSEC_10_12']\n",
    "\n",
    "FoodAccess = ['FarmersMkts Per County', 'PCT_LACCESS_POP10','PCT_LACCESS_LOWI10', 'PCT_LACCESS_HHNV10', 'GROCPTH12',\n",
    "              'SUPERCPTH12', 'CONVSPTH12','FFRPTH12','FSRPTH12']\n",
    "\n",
    "SocioEcon = ['SNAPSPTH12','REDEMP_SNAPS12','PCT_SNAP09', 'PC_SNAPBEN10', 'SNAP_PART_RATE10', 'PCT_NSLP09','PCT_FREE_LUNCH10', \n",
    "             'PCT_REDUCED_LUNCH10', 'PCT_SBP09','FOODINSEC_10_12', 'VLFOODSEC_10_12']\n",
    "\n",
    "SNAP = ['SNAPSPTH12','REDEMP_SNAPS12','PCT_SNAP09', 'PC_SNAPBEN10', 'SNAP_PART_RATE10']\n",
    "\n",
    "PopAct = ['PC_FFRSALES12', 'PC_FSRSALES12']"
   ]
  },
  {
   "cell_type": "code",
   "execution_count": 89,
   "metadata": {
    "collapsed": false
   },
   "outputs": [],
   "source": [
    "ObsetRun = Obset.dropna(how='any')\n",
    "\n",
    "#ColNames\n",
    "#FoodAccess\n",
    "#SocioEcon\n",
    "#SNAP \n",
    "#PopAct\n",
    "\n",
    "Cols = PopAct\n",
    "\n",
    "X = ObsetRun[Cols]\n",
    "maxRF = len(Cols)\n",
    "y = ObsetRun['percent 2012']\n",
    "#y = ObsetRun['cut5']"
   ]
  },
  {
   "cell_type": "code",
   "execution_count": 90,
   "metadata": {
    "collapsed": false
   },
   "outputs": [
    {
     "name": "stdout",
     "output_type": "stream",
     "text": [
      "Linear Val Scores: \n",
      "[ 0.07230618  0.09504269  0.13172711 -0.03905771  0.04250574  0.19945669\n",
      "  0.09961124  0.10930812  0.13331121  0.0528285 ]\n",
      "\n",
      "Mean Linear Val Score:  0.0897039786785\n",
      "Test Linear Val Score:  0.0679072992985\n"
     ]
    }
   ],
   "source": [
    "x_train, x_test, y_train, y_test = cross_validation.train_test_split(X, y,train_size=.9)\n",
    "\n",
    "X = x_train\n",
    "y = y_train\n",
    "\n",
    "#Create linear regression object\n",
    "linear = linear_model.LinearRegression()\n",
    "\n",
    "#Cross Validation for multiple results\n",
    "Lin_vals = cross_validation.cross_val_score(linear, x_train, y_train, cv=10)\n",
    "\n",
    "# Train the model using the training sets and check score\n",
    "linear.fit(x_train, y_train)\n",
    "linear.score(x_train, y_train)\n",
    "\n",
    "#Equation coefficient and Intercept\n",
    "print 'Linear Val Scores: \\n', Lin_vals\n",
    "print\n",
    "print 'Mean Linear Val Score: ', np.mean(Lin_vals)\n",
    "print 'Test Linear Val Score: ',linear.score(x_test, y_test)"
   ]
  },
  {
   "cell_type": "markdown",
   "metadata": {},
   "source": [
    "#### KNN"
   ]
  },
  {
   "cell_type": "code",
   "execution_count": 91,
   "metadata": {
    "collapsed": false
   },
   "outputs": [],
   "source": [
    "y = np.array(y).astype(int)\n",
    "y_test = np.array(y_test).astype(int)"
   ]
  },
  {
   "cell_type": "code",
   "execution_count": 92,
   "metadata": {
    "collapsed": false
   },
   "outputs": [],
   "source": [
    "# Let's test various values of K\n",
    "n_neighbors = range(1,51,2)\n",
    "\n",
    "scores = []\n",
    "for n in n_neighbors:\n",
    "    model = KNN(n)\n",
    "    model.fit(X, y)\n",
    "    scores.append(model.score(x_test, y_test))"
   ]
  },
  {
   "cell_type": "code",
   "execution_count": 93,
   "metadata": {
    "collapsed": false
   },
   "outputs": [
    {
     "data": {
      "image/png": "[encoded data removed]",
      "text/plain": [
       "<matplotlib.figure.Figure at 0x220f1518>"
      ]
     },
     "metadata": {},
     "output_type": "display_data"
    }
   ],
   "source": [
    "plt.figure(figsize=(20,8))\n",
    "plt.plot(n_neighbors, scores, linewidth=3.0)\n",
    "plt.show()"
   ]
  },
  {
   "cell_type": "code",
   "execution_count": 94,
   "metadata": {
    "collapsed": false
   },
   "outputs": [],
   "source": [
    "from sklearn import cross_validation\n",
    "\n",
    "K_hold = {}\n",
    "count_n = 0\n",
    "count_f = 0\n",
    "for n in n_neighbors:\n",
    "    model = KNN(n)\n",
    "    count_n += 1\n",
    "    n_scores = cross_validation.cross_val_score(model, X, y, cv=10) #, scoring='mean_squared_error')\n",
    "    K_hold[count_n] = \"Accuracy: %.3f (+/- %.3f)\" % (n_scores.mean(), n_scores.std() * 2)\n",
    "    count_f += 1"
   ]
  },
  {
   "cell_type": "code",
   "execution_count": 95,
   "metadata": {
    "collapsed": false
   },
   "outputs": [
    {
     "name": "stdout",
     "output_type": "stream",
     "text": [
      "Accuracy: 0.120 (+/- 0.037)\n"
     ]
    }
   ],
   "source": [
    "print(\"Accuracy: %.3f (+/- %0.3f)\" % (n_scores.mean(), n_scores.std() * 2))"
   ]
  },
  {
   "cell_type": "code",
   "execution_count": 30,
   "metadata": {
    "collapsed": false
   },
   "outputs": [
    {
     "name": "stdout",
     "output_type": "stream",
     "text": [
      "{1: 'Accuracy: 0.07 (+/- 0.04)', 2: 'Accuracy: 0.08 (+/- 0.03)', 3: 'Accuracy: 0.07 (+/- 0.04)', 4: 'Accuracy: 0.08 (+/- 0.04)', 5: 'Accuracy: 0.08 (+/- 0.03)', 6: 'Accuracy: 0.08 (+/- 0.03)', 7: 'Accuracy: 0.08 (+/- 0.03)', 8: 'Accuracy: 0.08 (+/- 0.02)', 9: 'Accuracy: 0.08 (+/- 0.02)', 10: 'Accuracy: 0.07 (+/- 0.02)', 11: 'Accuracy: 0.08 (+/- 0.03)', 12: 'Accuracy: 0.09 (+/- 0.04)', 13: 'Accuracy: 0.09 (+/- 0.04)', 14: 'Accuracy: 0.09 (+/- 0.03)', 15: 'Accuracy: 0.08 (+/- 0.03)', 16: 'Accuracy: 0.09 (+/- 0.03)', 17: 'Accuracy: 0.09 (+/- 0.03)', 18: 'Accuracy: 0.09 (+/- 0.03)', 19: 'Accuracy: 0.10 (+/- 0.02)', 20: 'Accuracy: 0.10 (+/- 0.02)', 21: 'Accuracy: 0.10 (+/- 0.03)', 22: 'Accuracy: 0.10 (+/- 0.02)', 23: 'Accuracy: 0.10 (+/- 0.02)', 24: 'Accuracy: 0.10 (+/- 0.03)', 25: 'Accuracy: 0.10 (+/- 0.04)'}\n"
     ]
    }
   ],
   "source": [
    "print K_hold"
   ]
  },
  {
   "cell_type": "code",
   "execution_count": 35,
   "metadata": {
    "collapsed": true
   },
   "outputs": [
    {
     "ename": "AssertionError",
     "evalue": "Grouper and axis must be same length",
     "output_type": "error",
     "traceback": [
      "\u001b[1;31m---------------------------------------------------------------------------\u001b[0m",
      "\u001b[1;31mAssertionError\u001b[0m                            Traceback (most recent call last)",
      "\u001b[1;32m<ipython-input-35-da8a2707748b>\u001b[0m in \u001b[0;36m<module>\u001b[1;34m()\u001b[0m\n\u001b[0;32m      4\u001b[0m \u001b[1;33m\u001b[0m\u001b[0m\n\u001b[0;32m      5\u001b[0m \u001b[0mplt\u001b[0m\u001b[1;33m.\u001b[0m\u001b[0mfigure\u001b[0m\u001b[1;33m(\u001b[0m\u001b[0mfigsize\u001b[0m\u001b[1;33m=\u001b[0m\u001b[1;33m(\u001b[0m\u001b[1;36m13\u001b[0m\u001b[1;33m,\u001b[0m \u001b[1;36m8\u001b[0m\u001b[1;33m)\u001b[0m\u001b[1;33m)\u001b[0m\u001b[1;33m\u001b[0m\u001b[0m\n\u001b[1;32m----> 6\u001b[1;33m \u001b[0max\u001b[0m \u001b[1;33m=\u001b[0m \u001b[0msns\u001b[0m\u001b[1;33m.\u001b[0m\u001b[0mbarplot\u001b[0m\u001b[1;33m(\u001b[0m\u001b[0mx\u001b[0m\u001b[1;33m=\u001b[0m\u001b[0mObset\u001b[0m\u001b[1;33m.\u001b[0m\u001b[0mcolumns\u001b[0m\u001b[1;33m[\u001b[0m\u001b[1;33m:\u001b[0m\u001b[1;33m-\u001b[0m\u001b[1;36m1\u001b[0m\u001b[1;33m]\u001b[0m\u001b[1;33m,\u001b[0m\u001b[0my\u001b[0m\u001b[1;33m=\u001b[0m\u001b[0mF\u001b[0m\u001b[1;33m)\u001b[0m\u001b[1;33m\u001b[0m\u001b[0m\n\u001b[0m\u001b[0;32m      7\u001b[0m \u001b[0max\u001b[0m\u001b[1;33m.\u001b[0m\u001b[0mset_title\u001b[0m\u001b[1;33m(\u001b[0m\u001b[0mtitle\u001b[0m\u001b[1;33m)\u001b[0m\u001b[1;33m\u001b[0m\u001b[0m\n\u001b[0;32m      8\u001b[0m \u001b[0max\u001b[0m\u001b[1;33m.\u001b[0m\u001b[0mset\u001b[0m\u001b[1;33m(\u001b[0m\u001b[0mxlabel\u001b[0m\u001b[1;33m=\u001b[0m\u001b[1;34m\"Features\"\u001b[0m\u001b[1;33m)\u001b[0m\u001b[1;33m;\u001b[0m\u001b[1;33m\u001b[0m\u001b[0m\n",
      "\u001b[1;32mC:\\Users\\ahellman\\AppData\\Local\\Continuum\\Anaconda2\\lib\\site-packages\\seaborn\\categorical.pyc\u001b[0m in \u001b[0;36mbarplot\u001b[1;34m(x, y, hue, data, order, hue_order, estimator, ci, n_boot, units, orient, color, palette, saturation, errcolor, ax, **kwargs)\u001b[0m\n\u001b[0;32m   2851\u001b[0m                           \u001b[0mestimator\u001b[0m\u001b[1;33m,\u001b[0m \u001b[0mci\u001b[0m\u001b[1;33m,\u001b[0m \u001b[0mn_boot\u001b[0m\u001b[1;33m,\u001b[0m \u001b[0munits\u001b[0m\u001b[1;33m,\u001b[0m\u001b[1;33m\u001b[0m\u001b[0m\n\u001b[0;32m   2852\u001b[0m                           \u001b[0morient\u001b[0m\u001b[1;33m,\u001b[0m \u001b[0mcolor\u001b[0m\u001b[1;33m,\u001b[0m \u001b[0mpalette\u001b[0m\u001b[1;33m,\u001b[0m \u001b[0msaturation\u001b[0m\u001b[1;33m,\u001b[0m\u001b[1;33m\u001b[0m\u001b[0m\n\u001b[1;32m-> 2853\u001b[1;33m                           errcolor)\n\u001b[0m\u001b[0;32m   2854\u001b[0m \u001b[1;33m\u001b[0m\u001b[0m\n\u001b[0;32m   2855\u001b[0m     \u001b[1;32mif\u001b[0m \u001b[0max\u001b[0m \u001b[1;32mis\u001b[0m \u001b[0mNone\u001b[0m\u001b[1;33m:\u001b[0m\u001b[1;33m\u001b[0m\u001b[0m\n",
      "\u001b[1;32mC:\\Users\\ahellman\\AppData\\Local\\Continuum\\Anaconda2\\lib\\site-packages\\seaborn\\categorical.pyc\u001b[0m in \u001b[0;36m__init__\u001b[1;34m(self, x, y, hue, data, order, hue_order, estimator, ci, n_boot, units, orient, color, palette, saturation, errcolor)\u001b[0m\n\u001b[0;32m   1519\u001b[0m         \u001b[1;34m\"\"\"Initialize the plotter.\"\"\"\u001b[0m\u001b[1;33m\u001b[0m\u001b[0m\n\u001b[0;32m   1520\u001b[0m         self.establish_variables(x, y, hue, data, orient,\n\u001b[1;32m-> 1521\u001b[1;33m                                  order, hue_order, units)\n\u001b[0m\u001b[0;32m   1522\u001b[0m         \u001b[0mself\u001b[0m\u001b[1;33m.\u001b[0m\u001b[0mestablish_colors\u001b[0m\u001b[1;33m(\u001b[0m\u001b[0mcolor\u001b[0m\u001b[1;33m,\u001b[0m \u001b[0mpalette\u001b[0m\u001b[1;33m,\u001b[0m \u001b[0msaturation\u001b[0m\u001b[1;33m)\u001b[0m\u001b[1;33m\u001b[0m\u001b[0m\n\u001b[0;32m   1523\u001b[0m         \u001b[0mself\u001b[0m\u001b[1;33m.\u001b[0m\u001b[0mestimate_statistic\u001b[0m\u001b[1;33m(\u001b[0m\u001b[0mestimator\u001b[0m\u001b[1;33m,\u001b[0m \u001b[0mci\u001b[0m\u001b[1;33m,\u001b[0m \u001b[0mn_boot\u001b[0m\u001b[1;33m)\u001b[0m\u001b[1;33m\u001b[0m\u001b[0m\n",
      "\u001b[1;32mC:\\Users\\ahellman\\AppData\\Local\\Continuum\\Anaconda2\\lib\\site-packages\\seaborn\\categorical.pyc\u001b[0m in \u001b[0;36mestablish_variables\u001b[1;34m(self, x, y, hue, data, orient, order, hue_order, units)\u001b[0m\n\u001b[0;32m    197\u001b[0m                 \u001b[1;31m# Group the numeric data\u001b[0m\u001b[1;33m\u001b[0m\u001b[1;33m\u001b[0m\u001b[0m\n\u001b[0;32m    198\u001b[0m                 plot_data, value_label = self._group_longform(vals, groups,\n\u001b[1;32m--> 199\u001b[1;33m                                                               group_names)\n\u001b[0m\u001b[0;32m    200\u001b[0m \u001b[1;33m\u001b[0m\u001b[0m\n\u001b[0;32m    201\u001b[0m                 \u001b[1;31m# Now handle the hue levels for nested ordering\u001b[0m\u001b[1;33m\u001b[0m\u001b[1;33m\u001b[0m\u001b[0m\n",
      "\u001b[1;32mC:\\Users\\ahellman\\AppData\\Local\\Continuum\\Anaconda2\\lib\\site-packages\\seaborn\\categorical.pyc\u001b[0m in \u001b[0;36m_group_longform\u001b[1;34m(self, vals, grouper, order)\u001b[0m\n\u001b[0;32m    239\u001b[0m \u001b[1;33m\u001b[0m\u001b[0m\n\u001b[0;32m    240\u001b[0m         \u001b[1;31m# Group the val data\u001b[0m\u001b[1;33m\u001b[0m\u001b[1;33m\u001b[0m\u001b[0m\n\u001b[1;32m--> 241\u001b[1;33m         \u001b[0mgrouped_vals\u001b[0m \u001b[1;33m=\u001b[0m \u001b[0mvals\u001b[0m\u001b[1;33m.\u001b[0m\u001b[0mgroupby\u001b[0m\u001b[1;33m(\u001b[0m\u001b[0mgrouper\u001b[0m\u001b[1;33m)\u001b[0m\u001b[1;33m\u001b[0m\u001b[0m\n\u001b[0m\u001b[0;32m    242\u001b[0m         \u001b[0mout_data\u001b[0m \u001b[1;33m=\u001b[0m \u001b[1;33m[\u001b[0m\u001b[1;33m]\u001b[0m\u001b[1;33m\u001b[0m\u001b[0m\n\u001b[0;32m    243\u001b[0m         \u001b[1;32mfor\u001b[0m \u001b[0mg\u001b[0m \u001b[1;32min\u001b[0m \u001b[0morder\u001b[0m\u001b[1;33m:\u001b[0m\u001b[1;33m\u001b[0m\u001b[0m\n",
      "\u001b[1;32mC:\\Users\\ahellman\\AppData\\Local\\Continuum\\Anaconda2\\lib\\site-packages\\pandas\\core\\generic.pyc\u001b[0m in \u001b[0;36mgroupby\u001b[1;34m(self, by, axis, level, as_index, sort, group_keys, squeeze)\u001b[0m\n\u001b[0;32m   3434\u001b[0m         \u001b[0maxis\u001b[0m \u001b[1;33m=\u001b[0m \u001b[0mself\u001b[0m\u001b[1;33m.\u001b[0m\u001b[0m_get_axis_number\u001b[0m\u001b[1;33m(\u001b[0m\u001b[0maxis\u001b[0m\u001b[1;33m)\u001b[0m\u001b[1;33m\u001b[0m\u001b[0m\n\u001b[0;32m   3435\u001b[0m         return groupby(self, by=by, axis=axis, level=level, as_index=as_index,\n\u001b[1;32m-> 3436\u001b[1;33m                        sort=sort, group_keys=group_keys, squeeze=squeeze)\n\u001b[0m\u001b[0;32m   3437\u001b[0m \u001b[1;33m\u001b[0m\u001b[0m\n\u001b[0;32m   3438\u001b[0m     \u001b[1;32mdef\u001b[0m \u001b[0masfreq\u001b[0m\u001b[1;33m(\u001b[0m\u001b[0mself\u001b[0m\u001b[1;33m,\u001b[0m \u001b[0mfreq\u001b[0m\u001b[1;33m,\u001b[0m \u001b[0mmethod\u001b[0m\u001b[1;33m=\u001b[0m\u001b[0mNone\u001b[0m\u001b[1;33m,\u001b[0m \u001b[0mhow\u001b[0m\u001b[1;33m=\u001b[0m\u001b[0mNone\u001b[0m\u001b[1;33m,\u001b[0m \u001b[0mnormalize\u001b[0m\u001b[1;33m=\u001b[0m\u001b[0mFalse\u001b[0m\u001b[1;33m)\u001b[0m\u001b[1;33m:\u001b[0m\u001b[1;33m\u001b[0m\u001b[0m\n",
      "\u001b[1;32mC:\\Users\\ahellman\\AppData\\Local\\Continuum\\Anaconda2\\lib\\site-packages\\pandas\\core\\groupby.pyc\u001b[0m in \u001b[0;36mgroupby\u001b[1;34m(obj, by, **kwds)\u001b[0m\n\u001b[0;32m   1309\u001b[0m         \u001b[1;32mraise\u001b[0m \u001b[0mTypeError\u001b[0m\u001b[1;33m(\u001b[0m\u001b[1;34m'invalid type: %s'\u001b[0m \u001b[1;33m%\u001b[0m \u001b[0mtype\u001b[0m\u001b[1;33m(\u001b[0m\u001b[0mobj\u001b[0m\u001b[1;33m)\u001b[0m\u001b[1;33m)\u001b[0m\u001b[1;33m\u001b[0m\u001b[0m\n\u001b[0;32m   1310\u001b[0m \u001b[1;33m\u001b[0m\u001b[0m\n\u001b[1;32m-> 1311\u001b[1;33m     \u001b[1;32mreturn\u001b[0m \u001b[0mklass\u001b[0m\u001b[1;33m(\u001b[0m\u001b[0mobj\u001b[0m\u001b[1;33m,\u001b[0m \u001b[0mby\u001b[0m\u001b[1;33m,\u001b[0m \u001b[1;33m**\u001b[0m\u001b[0mkwds\u001b[0m\u001b[1;33m)\u001b[0m\u001b[1;33m\u001b[0m\u001b[0m\n\u001b[0m\u001b[0;32m   1312\u001b[0m \u001b[1;33m\u001b[0m\u001b[0m\n\u001b[0;32m   1313\u001b[0m \u001b[1;33m\u001b[0m\u001b[0m\n",
      "\u001b[1;32mC:\\Users\\ahellman\\AppData\\Local\\Continuum\\Anaconda2\\lib\\site-packages\\pandas\\core\\groupby.pyc\u001b[0m in \u001b[0;36m__init__\u001b[1;34m(self, obj, keys, axis, level, grouper, exclusions, selection, as_index, sort, group_keys, squeeze)\u001b[0m\n\u001b[0;32m    416\u001b[0m         \u001b[1;32mif\u001b[0m \u001b[0mgrouper\u001b[0m \u001b[1;32mis\u001b[0m \u001b[0mNone\u001b[0m\u001b[1;33m:\u001b[0m\u001b[1;33m\u001b[0m\u001b[0m\n\u001b[0;32m    417\u001b[0m             grouper, exclusions, obj = _get_grouper(obj, keys, axis=axis,\n\u001b[1;32m--> 418\u001b[1;33m                                                     level=level, sort=sort)\n\u001b[0m\u001b[0;32m    419\u001b[0m \u001b[1;33m\u001b[0m\u001b[0m\n\u001b[0;32m    420\u001b[0m         \u001b[0mself\u001b[0m\u001b[1;33m.\u001b[0m\u001b[0mobj\u001b[0m \u001b[1;33m=\u001b[0m \u001b[0mobj\u001b[0m\u001b[1;33m\u001b[0m\u001b[0m\n",
      "\u001b[1;32mC:\\Users\\ahellman\\AppData\\Local\\Continuum\\Anaconda2\\lib\\site-packages\\pandas\\core\\groupby.pyc\u001b[0m in \u001b[0;36m_get_grouper\u001b[1;34m(obj, key, axis, level, sort)\u001b[0m\n\u001b[0;32m   2272\u001b[0m \u001b[1;33m\u001b[0m\u001b[0m\n\u001b[0;32m   2273\u001b[0m         ping = Grouping(group_axis, gpr, obj=obj, name=name,\n\u001b[1;32m-> 2274\u001b[1;33m                         level=level, sort=sort, in_axis=in_axis)\n\u001b[0m\u001b[0;32m   2275\u001b[0m \u001b[1;33m\u001b[0m\u001b[0m\n\u001b[0;32m   2276\u001b[0m         \u001b[0mgroupings\u001b[0m\u001b[1;33m.\u001b[0m\u001b[0mappend\u001b[0m\u001b[1;33m(\u001b[0m\u001b[0mping\u001b[0m\u001b[1;33m)\u001b[0m\u001b[1;33m\u001b[0m\u001b[0m\n",
      "\u001b[1;32mC:\\Users\\ahellman\\AppData\\Local\\Continuum\\Anaconda2\\lib\\site-packages\\pandas\\core\\groupby.pyc\u001b[0m in \u001b[0;36m__init__\u001b[1;34m(self, index, grouper, obj, name, level, sort, in_axis)\u001b[0m\n\u001b[0;32m   1992\u001b[0m         \u001b[0mself\u001b[0m\u001b[1;33m.\u001b[0m\u001b[0mname\u001b[0m \u001b[1;33m=\u001b[0m \u001b[0mname\u001b[0m\u001b[1;33m\u001b[0m\u001b[0m\n\u001b[0;32m   1993\u001b[0m         \u001b[0mself\u001b[0m\u001b[1;33m.\u001b[0m\u001b[0mlevel\u001b[0m \u001b[1;33m=\u001b[0m \u001b[0mlevel\u001b[0m\u001b[1;33m\u001b[0m\u001b[0m\n\u001b[1;32m-> 1994\u001b[1;33m         \u001b[0mself\u001b[0m\u001b[1;33m.\u001b[0m\u001b[0mgrouper\u001b[0m \u001b[1;33m=\u001b[0m \u001b[0m_convert_grouper\u001b[0m\u001b[1;33m(\u001b[0m\u001b[0mindex\u001b[0m\u001b[1;33m,\u001b[0m \u001b[0mgrouper\u001b[0m\u001b[1;33m)\u001b[0m\u001b[1;33m\u001b[0m\u001b[0m\n\u001b[0m\u001b[0;32m   1995\u001b[0m         \u001b[0mself\u001b[0m\u001b[1;33m.\u001b[0m\u001b[0mindex\u001b[0m \u001b[1;33m=\u001b[0m \u001b[0mindex\u001b[0m\u001b[1;33m\u001b[0m\u001b[0m\n\u001b[0;32m   1996\u001b[0m         \u001b[0mself\u001b[0m\u001b[1;33m.\u001b[0m\u001b[0msort\u001b[0m \u001b[1;33m=\u001b[0m \u001b[0msort\u001b[0m\u001b[1;33m\u001b[0m\u001b[0m\n",
      "\u001b[1;32mC:\\Users\\ahellman\\AppData\\Local\\Continuum\\Anaconda2\\lib\\site-packages\\pandas\\core\\groupby.pyc\u001b[0m in \u001b[0;36m_convert_grouper\u001b[1;34m(axis, grouper)\u001b[0m\n\u001b[0;32m   2299\u001b[0m     \u001b[1;32melif\u001b[0m \u001b[0misinstance\u001b[0m\u001b[1;33m(\u001b[0m\u001b[0mgrouper\u001b[0m\u001b[1;33m,\u001b[0m \u001b[1;33m(\u001b[0m\u001b[0mlist\u001b[0m\u001b[1;33m,\u001b[0m \u001b[0mSeries\u001b[0m\u001b[1;33m,\u001b[0m \u001b[0mIndex\u001b[0m\u001b[1;33m,\u001b[0m \u001b[0mnp\u001b[0m\u001b[1;33m.\u001b[0m\u001b[0mndarray\u001b[0m\u001b[1;33m)\u001b[0m\u001b[1;33m)\u001b[0m\u001b[1;33m:\u001b[0m\u001b[1;33m\u001b[0m\u001b[0m\n\u001b[0;32m   2300\u001b[0m         \u001b[1;32mif\u001b[0m \u001b[0mlen\u001b[0m\u001b[1;33m(\u001b[0m\u001b[0mgrouper\u001b[0m\u001b[1;33m)\u001b[0m \u001b[1;33m!=\u001b[0m \u001b[0mlen\u001b[0m\u001b[1;33m(\u001b[0m\u001b[0maxis\u001b[0m\u001b[1;33m)\u001b[0m\u001b[1;33m:\u001b[0m\u001b[1;33m\u001b[0m\u001b[0m\n\u001b[1;32m-> 2301\u001b[1;33m             \u001b[1;32mraise\u001b[0m \u001b[0mAssertionError\u001b[0m\u001b[1;33m(\u001b[0m\u001b[1;34m'Grouper and axis must be same length'\u001b[0m\u001b[1;33m)\u001b[0m\u001b[1;33m\u001b[0m\u001b[0m\n\u001b[0m\u001b[0;32m   2302\u001b[0m         \u001b[1;32mreturn\u001b[0m \u001b[0mgrouper\u001b[0m\u001b[1;33m\u001b[0m\u001b[0m\n\u001b[0;32m   2303\u001b[0m     \u001b[1;32melse\u001b[0m\u001b[1;33m:\u001b[0m\u001b[1;33m\u001b[0m\u001b[0m\n",
      "\u001b[1;31mAssertionError\u001b[0m: Grouper and axis must be same length"
     ]
    },
    {
     "data": {
      "text/plain": [
       "<matplotlib.figure.Figure at 0x1fd5dd30>"
      ]
     },
     "metadata": {},
     "output_type": "display_data"
    }
   ],
   "source": [
    "from sklearn import feature_selection\n",
    "F = feature_selection.f_classif(X, y)[0]\n",
    "title = 'FF Features with F-Values'\n",
    "\n",
    "plt.figure(figsize=(13, 8))\n",
    "ax = sns.barplot(x=Obset.columns[:-1],y=F)\n",
    "ax.set_title(title)\n",
    "ax.set(xlabel=\"Features\");"
   ]
  },
  {
   "cell_type": "code",
   "execution_count": 63,
   "metadata": {
    "collapsed": false
   },
   "outputs": [
    {
     "name": "stdout",
     "output_type": "stream",
     "text": [
      "RandomForestClassifier 2: 0.108\n"
     ]
    }
   ],
   "source": [
    "from sklearn.ensemble import RandomForestClassifier\n",
    "maxRF = len(Cols)\n",
    "\n",
    "forest = RandomForestClassifier(n_estimators=500,\n",
    "     max_features=int(maxRF), random_state=0, max_depth=None)\n",
    "scores = cross_validation.cross_val_score(forest, X.values, y,cv=10)\n",
    "print \"RandomForestClassifier %i: %.3f\" % (int(maxRF),scores.mean())\n",
    "forest.fit(X, y)\n",
    "cm = confusion_matrix(y_test, forest.predict(x_test))"
   ]
  },
  {
   "cell_type": "code",
   "execution_count": 64,
   "metadata": {
    "collapsed": false
   },
   "outputs": [],
   "source": [
    "def plot_confusion_matrix(cm, title='Random Forest Confusion matrix', cmap=plt.cm.Blues):\n",
    "    plt.imshow(cm, interpolation='nearest', cmap=cmap)\n",
    "    plt.title(title)\n",
    "    plt.colorbar()\n",
    "    plt.tight_layout()\n",
    "    plt.ylabel('True label')\n",
    "    plt.xlabel('Predicted label')"
   ]
  },
  {
   "cell_type": "code",
   "execution_count": 65,
   "metadata": {
    "collapsed": false
   },
   "outputs": [
    {
     "data": {
      "image/png": "[encoded data removed]",
      "text/plain": [
       "<matplotlib.figure.Figure at 0x23f4ab00>"
      ]
     },
     "metadata": {},
     "output_type": "display_data"
    }
   ],
   "source": [
    "plot_confusion_matrix(cm)"
   ]
  },
  {
   "cell_type": "markdown",
   "metadata": {},
   "source": [
    "#### Random Forests of Continuous Data"
   ]
  },
  {
   "cell_type": "code",
   "execution_count": null,
   "metadata": {
    "collapsed": true
   },
   "outputs": [],
   "source": [
    "y = np.array(y).astype(int)\n",
    "y_test = np.array(y_test).astype(int)"
   ]
  },
  {
   "cell_type": "code",
   "execution_count": null,
   "metadata": {
    "collapsed": false
   },
   "outputs": [],
   "source": [
    "from sklearn.ensemble import RandomForestClassifier\n",
    "maxRF = len(Cols)\n",
    "\n",
    "forest = RandomForestClassifier(n_estimators=500,\n",
    "     max_features=int(maxRF), random_state=0, max_depth=None)\n",
    "\n",
    "scores = cross_validation.cross_val_score(forest, X.values, y.values,cv=10)\n",
    "\n",
    "print \"RandomForestClassifier %i: %.3f\" % int(maxRF,scores.mean())\n",
    "forest.fit(x_train, y_train)\n",
    "cm = confusion_matrix(y_test, forest.predict(x_test))\n",
    "print cm"
   ]
  },
  {
   "cell_type": "markdown",
   "metadata": {},
   "source": [
    "##### Conclusion: Poor fit\n",
    "The coefficients of the line vary too much to get a meaningful model.\n",
    "###### Next Step: Group the Variables by type and make multiple multivariable linear regression lines:"
   ]
  },
  {
   "cell_type": "markdown",
   "metadata": {},
   "source": [
    "Look up:\n",
    "Feature importance\n",
    "Feature weight\n"
   ]
  },
  {
   "cell_type": "markdown",
   "metadata": {},
   "source": [
    "# Logisitic Regression\n",
    "Classify the Obesity Rate to Apply  \n",
    "Since the Obesity rate has a large variance our modeling is not good at predicting it accurately so here I will categorize the Obesity rate into 2 classes: Acceptable and Unnaceptable. \n",
    "\n",
    "This categorization will be determined by the median value of the percentage of Obesity per county. If the county is below the median, it will be classified with a 0 and 1 otherwise. "
   ]
  },
  {
   "cell_type": "code",
   "execution_count": null,
   "metadata": {
    "collapsed": false
   },
   "outputs": [],
   "source": [
    "obmedian = np.median(Obset['percent 2012'])\n",
    "print obmedian\n",
    "\n",
    "def medd(percent):\n",
    "    if percent > obmedian:\n",
    "        return 1\n",
    "    else:\n",
    "        return 0"
   ]
  },
  {
   "cell_type": "code",
   "execution_count": null,
   "metadata": {
    "collapsed": false
   },
   "outputs": [],
   "source": [
    "Obset['median12'] = Obset['percent 2012'].apply(medd)"
   ]
  },
  {
   "cell_type": "markdown",
   "metadata": {},
   "source": [
    "##### Above we did Binary Logistic Regression, so lets try 5-part LR\n",
    "These will treated as dummies and we will do the regression off of these"
   ]
  },
  {
   "cell_type": "code",
   "execution_count": null,
   "metadata": {
    "collapsed": false
   },
   "outputs": [],
   "source": [
    "def cut5(percent):\n",
    "    if percent <= 17.88:\n",
    "        return 0\n",
    "    elif percent <= 25.06:\n",
    "        return 1\n",
    "    elif percent <= 32.24:\n",
    "        return 2\n",
    "    elif percent <= 39.42:\n",
    "        return 3\n",
    "    else: \n",
    "        return 4"
   ]
  },
  {
   "cell_type": "code",
   "execution_count": null,
   "metadata": {
    "collapsed": false
   },
   "outputs": [],
   "source": [
    "Obset['cut5'] = Obset['percent 2012'].apply(cut5)"
   ]
  },
  {
   "cell_type": "markdown",
   "metadata": {},
   "source": [
    "-----"
   ]
  },
  {
   "cell_type": "markdown",
   "metadata": {},
   "source": [
    "#### All 22 FDA Factors:\n",
    "This is the Multivariable Linear Regression modelling for all 22 Food Factor Variables. "
   ]
  },
  {
   "cell_type": "code",
   "execution_count": null,
   "metadata": {
    "collapsed": false
   },
   "outputs": [],
   "source": [
    "ObsetRun = Obset.dropna(how='any')\n",
    "\n",
    "#ColNames\n",
    "#FoodAccess\n",
    "#SocioEcon\n",
    "#SNAP \n",
    "#PopAct\n",
    "\n",
    "Cols = FoodAccess\n",
    "\n",
    "X = ObsetRun[Cols]\n",
    "maxRF = len(Cols)\n",
    "y = ObsetRun['median12']\n",
    "#y = ObsetRun['cut5']"
   ]
  },
  {
   "cell_type": "code",
   "execution_count": null,
   "metadata": {
    "collapsed": false,
    "scrolled": true
   },
   "outputs": [],
   "source": [
    "x_train, x_test, y_train, y_test = cross_validation.train_test_split(X, y,train_size=.9)\n",
    "\n",
    "X = x_train\n",
    "y = y_train\n",
    "\n",
    "# Create linear regression object\n",
    "linear = linear_model.LinearRegression()\n",
    "\n",
    "#Another model: bagging decision trees\n",
    "bagging = BaggingClassifier(base_estimator=DecisionTreeClassifier(),n_estimators=250)\n",
    "\n",
    "#Another model: boosting decision trees\n",
    "boosting = AdaBoostClassifier(base_estimator=DecisionTreeClassifier(),n_estimators=250)\n",
    "\n",
    "#Cross Validation for multiple results\n",
    "Lin_vals = cross_validation.cross_val_score(linear, x_train, y_train, cv=10)\n",
    "Bag_vals = cross_validation.cross_val_score(bagging, X.values, y.values, cv=10)\n",
    "Boost_vals = cross_validation.cross_val_score(boosting, X.values, y.values,cv=10)\n",
    "\n",
    "# Train the model using the training sets and check score\n",
    "linear.fit(x_train, y_train)\n",
    "linear.score(x_train, y_train)\n",
    "bagging.fit(x_train, y_train)\n",
    "bagging.score(x_train, y_train)\n",
    "boosting.fit(x_train, y_train)\n",
    "boosting.score(x_train, y_train)\n",
    "\n",
    "#Equation coefficient and Intercept\n",
    "#print 'Coefficient: \\n', linear.coef_\n",
    "#print\n",
    "#print 'Intercept: %.4f' % linear.intercept_\n",
    "#print \n",
    "#print 'Variance score: %.4f' % linear.score(x_test, y_test)\n",
    "#print \n",
    "print 'Linear Val Scores: \\n', Lin_vals\n",
    "print 'Mean Linear Val Score: %.3f ' % np.mean(Lin_vals)\n",
    "print \n",
    "print 'Bagging Val Scores: \\n', Bag_vals\n",
    "print 'Mean Bagging Val Score: %.3f ' % np.mean(Bag_vals)\n",
    "print \n",
    "print 'Boosting Val Scores: \\n', Boost_vals\n",
    "print 'Mean Boost Val Score: %.3f ' % np.mean(Boost_vals)"
   ]
  },
  {
   "cell_type": "code",
   "execution_count": null,
   "metadata": {
    "collapsed": false,
    "scrolled": true
   },
   "outputs": [],
   "source": [
    "from sklearn.ensemble import RandomForestClassifier\n",
    "\n",
    "#Decision tree with 1/2 the max depth to prevent over fitting\n",
    "dtree = DecisionTreeClassifier(max_depth=int(maxRF/2.0), min_samples_split=1,random_state=0)\n",
    "scores = cross_validation.cross_val_score(dtree, X.values, y.values,cv=10)\n",
    "print \"DecisionTreeClassifier Max 1/2: %.3f\" % scores.mean()\n",
    "dtree.fit(x_train, y_train)\n",
    "cm = confusion_matrix(y_test, dtree.predict(x_test))\n",
    "print cm\n",
    "\n",
    "## DecisionTreeClassifier\n",
    "dtree = DecisionTreeClassifier(max_depth=None, min_samples_split=1,random_state=0)\n",
    "scores = cross_validation.cross_val_score(dtree, X.values, y.values,cv=10)\n",
    "print \"DecisionTreeClassifier Max None: %.3f\" % scores.mean()\n",
    "dtree.fit(x_train, y_train)\n",
    "cm = confusion_matrix(y_test, dtree.predict(x_test))\n",
    "print cm\n",
    "\n",
    "'''## Bagged\n",
    "scores = cross_validation.cross_val_score(bagging,X.values, y.values,cv=10)\n",
    "print \"BaggedTreeClassifier: %.3f\" % scores.mean()\n",
    "cm = confusion_matrix(y_test, bagging.predict(x_test))\n",
    "print cm\n",
    "\n",
    "## Boosted\n",
    "scores = cross_validation.cross_val_score(boosting, X.values, y.values,cv=10)\n",
    "print \"BoostedTreeClassifier: %.3f\" % scores.mean()\n",
    "cm = confusion_matrix(y_test, boosting.predict(x_test))\n",
    "print cm'''\n",
    "\n",
    "## RandomForestClassifier 1/3\n",
    "forest = RandomForestClassifier(n_estimators=500,\n",
    "     max_features=int(maxRF*(1.0/3.0)), random_state=0, max_depth=None)\n",
    "scores = cross_validation.cross_val_score(forest, X.values, y.values,cv=10)\n",
    "print \"RandomForestClassifier %i: %.3f\" % (int(maxRF*(1.0/3.0)),scores.mean())\n",
    "forest.fit(x_train, y_train)\n",
    "cm = confusion_matrix(y_test, forest.predict(x_test))\n",
    "print cm\n",
    "\n",
    "## RandomForestClassifier 2/3\n",
    "forest = RandomForestClassifier(n_estimators=500,\n",
    "     max_features=int(maxRF*(2.0/3.0)), random_state=0, max_depth=None)\n",
    "scores = cross_validation.cross_val_score(forest, X.values, y.values,cv=10)\n",
    "print \"RandomForestClassifier %i: %.3f\" % (int(maxRF*(2.0/3.0)),scores.mean())\n",
    "forest.fit(x_train, y_train)\n",
    "cm = confusion_matrix(y_test, forest.predict(x_test))\n",
    "print cm\n",
    "\n",
    "## RandomForestClassifier Max\n",
    "forest = RandomForestClassifier(n_estimators=500,\n",
    "     max_features=maxRF, random_state=0, max_depth=None)\n",
    "scores = cross_validation.cross_val_score(forest, X.values, y.values,cv=10)\n",
    "print \"RandomForestClassifier %i: %.3f\" % (maxRF,scores.mean())\n",
    "forest.fit(x_train, y_train)\n",
    "cm = confusion_matrix(y_test, forest.predict(x_test))\n",
    "print cm\n",
    "print \"done\""
   ]
  },
  {
   "cell_type": "code",
   "execution_count": null,
   "metadata": {
    "collapsed": false
   },
   "outputs": [],
   "source": [
    "importances = forest.fit(X.values, y.values).feature_importances_\n",
    "std = np.std([tree.feature_importances_ for tree in forest.estimators_], axis=0)\n",
    "indices = np.argsort(importances)[::-1]\n",
    "\n",
    "# Print the feature ranking\n",
    "print(\"Feature ranking:\")\n",
    "\n",
    "for f in range(X.values.shape[1]):\n",
    "    print(\"{0}. feature {1} ({2})\".format(f + 1, ColNames[f], round(importances[indices[f]],3)))\n",
    "\n",
    "# Plot the feature importances of the forest\n",
    "plt.figure()\n",
    "plt.title(\"Feature importances\")\n",
    "plt.bar(range(X.values.shape[1]), importances[indices],\n",
    "       color=\"r\", yerr=std[indices], align=\"center\")\n",
    "plt.xticks(range(X.values.shape[1]), indices)\n",
    "plt.xlim([-1, X.values.shape[1]])\n",
    "plt.show()"
   ]
  },
  {
   "cell_type": "markdown",
   "metadata": {
    "collapsed": true
   },
   "source": [
    "#### ROC Cruves"
   ]
  },
  {
   "cell_type": "code",
   "execution_count": null,
   "metadata": {
    "collapsed": false
   },
   "outputs": [],
   "source": [
    "target_predicted_proba = importances.predict_proba(x_test)\n",
    "\n",
    "def plot_roc_curve(target_test, target_predicted_proba, categories):\n",
    "    from sklearn.metrics import roc_curve\n",
    "    from sklearn.metrics import auc\n",
    "    \n",
    "    for pos_label, category in enumerate(categories):\n",
    "        fpr, tpr, thresholds = roc_curve(target_test, target_predicted_proba[:, pos_label], pos_label)\n",
    "        roc_auc = auc(fpr, tpr)\n",
    "        plt.plot(fpr, tpr, label='{} ROC curve (area = {:.3f})'.format(category, roc_auc))\n",
    "    \n",
    "    plt.plot([0, 1], [0, 1], 'k--')  # random predictions curve\n",
    "    plt.xlim([0.0, 1.0])\n",
    "    plt.ylim([0.0, 1.0])\n",
    "    plt.xlabel('False Positive Rate or (1 - Specifity)')\n",
    "    plt.ylabel('True Positive Rate or (Sensitivity)')\n",
    "    plt.title('Food Factors')\n",
    "    plt.legend(loc=\"lower right\")"
   ]
  },
  {
   "cell_type": "code",
   "execution_count": null,
   "metadata": {
    "collapsed": false
   },
   "outputs": [],
   "source": [
    "plot_roc_curve(y_test, target_predicted_proba, Cols[:5])"
   ]
  },
  {
   "cell_type": "code",
   "execution_count": null,
   "metadata": {
    "collapsed": false
   },
   "outputs": [],
   "source": [
    "target_predicted_proba"
   ]
  }
 ],
 "metadata": {
  "kernelspec": {
   "display_name": "Python 2",
   "language": "python",
   "name": "python2"
  },
  "language_info": {
   "codemirror_mode": {
    "name": "ipython",
    "version": 2
   },
   "file_extension": ".py",
   "mimetype": "text/x-python",
   "name": "python",
   "nbconvert_exporter": "python",
   "pygments_lexer": "ipython2",
   "version": "2.7.11"
  }
 },
 "nbformat": 4,
 "nbformat_minor": 0
}
