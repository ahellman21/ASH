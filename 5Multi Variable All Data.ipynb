{
 "cells": [
  {
   "cell_type": "code",
   "execution_count": 1,
   "metadata": {
    "collapsed": false
   },
   "outputs": [],
   "source": [
    "%matplotlib inline\n",
    "import pandas as pd\n",
    "import numpy as np\n",
    "import matplotlib.pyplot as plt\n",
    "import matplotlib as mpl\n",
    "import seaborn as sns\n",
    "\n",
    "from sklearn.tree import DecisionTreeClassifier\n",
    "from sklearn.ensemble import BaggingClassifier\n",
    "from sklearn.ensemble import AdaBoostClassifier\n",
    "from sklearn.metrics import confusion_matrix\n",
    "\n",
    "import warnings\n",
    "warnings.filterwarnings('ignore')"
   ]
  },
  {
   "cell_type": "code",
   "execution_count": 2,
   "metadata": {
    "collapsed": true
   },
   "outputs": [],
   "source": [
    "#Ob_set is the Obesity set of date. It has the obesity rates from 2004 - 2012 per county\n",
    "#Lets load in the data toutilize it further\n",
    "#\"number yyyy\" is the percentage of obese idividuals based on the surverys done each year for the entire county\n",
    "Obset = pd.read_excel(\"OB_PREV_ALL_STATES.xlsx\", \"obesity\")\n",
    "#Remove all the extra data in the Obesity list to leave just the numbers and % obese per county\n",
    "for col in Obset.columns[3:]:\n",
    "    if 'number' not in col and 'percent' not in col or 'age' in col:\n",
    "        del Obset[col]\n",
    "\n",
    "for col in Obset.columns[3:]:\n",
    "    if '2009' not in col and '2012' not in col and '2010' not in col:\n",
    "        del Obset[col]\n",
    "        \n",
    "#delete any NaN values for a better data set\n",
    "Obset = Obset.dropna(how='any')\n",
    "\n",
    "#Sort the set by FIPS nuber\n",
    "Obset = Obset.sort(columns='FIPS Codes', axis=0)"
   ]
  },
  {
   "cell_type": "code",
   "execution_count": 3,
   "metadata": {
    "collapsed": false
   },
   "outputs": [],
   "source": [
    "#Food Access Data\n",
    "FoodAccess = pd.read_excel(\"FoodSecAllup.xls\", 'ACCESS')\n",
    "#Food Security\n",
    "Restaurants = pd.read_excel(\"FoodSecAllup.xls\", 'RESTAURANTS')\n",
    "#Food Stores Density\n",
    "Stores = pd.read_excel(\"FoodSecAllup.xls\", 'STORES')\n",
    "#Farmers Market Data\n",
    "FarmMkt = pd.read_csv(\"Farmers_market_Dir.csv\")\n",
    "#Food Assistance Data\n",
    "Assistance = pd.read_excel(\"FoodSecAllup.xls\", \"ASSISTANCE\")\n",
    "#Food Inseciruty Data\n",
    "Insecurity = pd.read_excel(\"FoodSecAllup.xls\", \"INSECURITY\")\n",
    "#Food Local Data\n",
    "Local = pd.read_excel(\"FoodSecAllup.xls\", \"LOCAL\")\n",
    "#Food Prices and Taxes\n",
    "FPrices = pd.read_excel(\"FoodSecAllup.xls\", \"PRICES_TAXES\")\n",
    "#Socioeconomic factors \n",
    "SociEcon = pd.read_excel(\"FoodSecAllup.xls\", \"SOCIOECONOMIC\")"
   ]
  },
  {
   "cell_type": "markdown",
   "metadata": {},
   "source": [
    "#### Famers Markets\n",
    "This code finds how many farmers markets there are per county and then merges them to the Obesity data set on a County/State key that is necessary as the Farmers Markets data does not have the FIPS code which would designate which county the market is in."
   ]
  },
  {
   "cell_type": "code",
   "execution_count": 4,
   "metadata": {
    "collapsed": true
   },
   "outputs": [],
   "source": [
    "#Drop (remove) the columns in the farmers market data set that we dont need\n",
    "#remove all coumns but 9 & 10\n",
    "FarmMkt = FarmMkt.drop(FarmMkt.columns[1:8], axis=1)#,inplace=True)\n",
    "FarmMkt = FarmMkt.drop(FarmMkt.columns[4:], axis=1)\n",
    "FarmMkt = FarmMkt.dropna(subset=['County'], how='all') #drop all rows that have any NaN values\n",
    "\n",
    "#make a new column in FarmMkt and Obset to be a key to match the county/state pair\n",
    "Obset['CSKey'] = Obset[['County','State']].sum(axis=1)\n",
    "FarmMkt['CSKey'] = FarmMkt[['County','State']].sum(axis=1)\n",
    "\n",
    "#New frame for the group by for the farmers market data\n",
    "NewFrame = FarmMkt.groupby('CSKey').count()\n",
    "NewFrame = NewFrame.drop(NewFrame.columns[1:], axis=1)\n",
    "NewFrame.columns = ['FarmersMkts Per County']\n",
    "#then merge it with the OBesity set to have the Fearmers market counts\n",
    "#Obset['FarmersMkts Per County'] = Obset.merge(NewFrame, on=NewFrame.index, how='left')\n",
    "Obset = pd.merge(Obset, NewFrame, how='left', left_on='CSKey',left_index=False, right_index=True, sort=True, copy=True)\n",
    "#then drop the Key from the Obset data as no longer needed\n",
    "Obset = Obset.drop(Obset.columns[Obset.columns.get_loc('CSKey')], axis=1)\n",
    "#Change all the Nan values in the Famers count to 0\n",
    "Obset['FarmersMkts Per County'] = Obset['FarmersMkts Per County'].fillna(int(0))\n",
    "#Change all the Farmers market vals to ints\n",
    "Obset['FarmersMkts Per County'] = Obset['FarmersMkts Per County'].astype(int)"
   ]
  },
  {
   "cell_type": "markdown",
   "metadata": {},
   "source": [
    "#### Low Access to Grocery Stores\n",
    "This code combines the Grocery store access data with the obesity set. \n",
    "\n",
    "3 Data Sets: \n",
    "1. Population's with low access to grocery stores\n",
    "2. Population with Low income access to grocery stores\n",
    "3. Population with no car and low income access to grocery stores"
   ]
  },
  {
   "cell_type": "code",
   "execution_count": 5,
   "metadata": {
    "collapsed": false
   },
   "outputs": [
    {
     "data": {
      "text/html": [
       "<div>\n",
       "<table border=\"1\" class=\"dataframe\">\n",
       "  <thead>\n",
       "    <tr style=\"text-align: right;\">\n",
       "      <th></th>\n",
       "      <th>FIPS</th>\n",
       "      <th>State</th>\n",
       "      <th>County</th>\n",
       "      <th>LACCESS_POP10</th>\n",
       "      <th>PCT_LACCESS_POP10</th>\n",
       "      <th>LACCESS_LOWI10</th>\n",
       "      <th>PCT_LACCESS_LOWI10</th>\n",
       "      <th>LACCESS_CHILD10</th>\n",
       "      <th>PCT_LACCESS_CHILD10</th>\n",
       "      <th>LACCESS_SENIORS10</th>\n",
       "      <th>PCT_LACCESS_SENIORS10</th>\n",
       "      <th>LACCESS_HHNV10</th>\n",
       "      <th>PCT_LACCESS_HHNV10</th>\n",
       "    </tr>\n",
       "  </thead>\n",
       "  <tbody>\n",
       "    <tr>\n",
       "      <th>0</th>\n",
       "      <td>1001</td>\n",
       "      <td>Alabama</td>\n",
       "      <td>Autauga</td>\n",
       "      <td>18428.439685</td>\n",
       "      <td>33.769657</td>\n",
       "      <td>5344.427472</td>\n",
       "      <td>9.793530</td>\n",
       "      <td>4822.500269</td>\n",
       "      <td>8.837112</td>\n",
       "      <td>2388.233228</td>\n",
       "      <td>4.376378</td>\n",
       "      <td>664.216487</td>\n",
       "      <td>3.284786</td>\n",
       "    </tr>\n",
       "    <tr>\n",
       "      <th>1</th>\n",
       "      <td>1003</td>\n",
       "      <td>Alabama</td>\n",
       "      <td>Baldwin</td>\n",
       "      <td>35210.814078</td>\n",
       "      <td>19.318473</td>\n",
       "      <td>9952.144027</td>\n",
       "      <td>5.460261</td>\n",
       "      <td>7916.131932</td>\n",
       "      <td>4.343199</td>\n",
       "      <td>6404.008603</td>\n",
       "      <td>3.513570</td>\n",
       "      <td>1571.779915</td>\n",
       "      <td>2.147827</td>\n",
       "    </tr>\n",
       "    <tr>\n",
       "      <th>2</th>\n",
       "      <td>1005</td>\n",
       "      <td>Alabama</td>\n",
       "      <td>Barbour</td>\n",
       "      <td>5722.305602</td>\n",
       "      <td>20.840972</td>\n",
       "      <td>3135.676086</td>\n",
       "      <td>11.420316</td>\n",
       "      <td>940.419327</td>\n",
       "      <td>3.425062</td>\n",
       "      <td>770.214550</td>\n",
       "      <td>2.805166</td>\n",
       "      <td>406.142372</td>\n",
       "      <td>4.135869</td>\n",
       "    </tr>\n",
       "    <tr>\n",
       "      <th>3</th>\n",
       "      <td>1007</td>\n",
       "      <td>Alabama</td>\n",
       "      <td>Bibb</td>\n",
       "      <td>1044.867327</td>\n",
       "      <td>4.559753</td>\n",
       "      <td>491.449066</td>\n",
       "      <td>2.144661</td>\n",
       "      <td>249.204753</td>\n",
       "      <td>1.087518</td>\n",
       "      <td>150.553323</td>\n",
       "      <td>0.657008</td>\n",
       "      <td>275.060875</td>\n",
       "      <td>3.458580</td>\n",
       "    </tr>\n",
       "    <tr>\n",
       "      <th>4</th>\n",
       "      <td>1009</td>\n",
       "      <td>Alabama</td>\n",
       "      <td>Blount</td>\n",
       "      <td>1548.175559</td>\n",
       "      <td>2.700840</td>\n",
       "      <td>609.027708</td>\n",
       "      <td>1.062468</td>\n",
       "      <td>384.911607</td>\n",
       "      <td>0.671490</td>\n",
       "      <td>195.049051</td>\n",
       "      <td>0.340269</td>\n",
       "      <td>705.466783</td>\n",
       "      <td>3.269380</td>\n",
       "    </tr>\n",
       "  </tbody>\n",
       "</table>\n",
       "</div>"
      ],
      "text/plain": [
       "   FIPS    State   County  LACCESS_POP10  PCT_LACCESS_POP10  LACCESS_LOWI10  \\\n",
       "0  1001  Alabama  Autauga   18428.439685          33.769657     5344.427472   \n",
       "1  1003  Alabama  Baldwin   35210.814078          19.318473     9952.144027   \n",
       "2  1005  Alabama  Barbour    5722.305602          20.840972     3135.676086   \n",
       "3  1007  Alabama     Bibb    1044.867327           4.559753      491.449066   \n",
       "4  1009  Alabama   Blount    1548.175559           2.700840      609.027708   \n",
       "\n",
       "   PCT_LACCESS_LOWI10  LACCESS_CHILD10  PCT_LACCESS_CHILD10  \\\n",
       "0            9.793530      4822.500269             8.837112   \n",
       "1            5.460261      7916.131932             4.343199   \n",
       "2           11.420316       940.419327             3.425062   \n",
       "3            2.144661       249.204753             1.087518   \n",
       "4            1.062468       384.911607             0.671490   \n",
       "\n",
       "   LACCESS_SENIORS10  PCT_LACCESS_SENIORS10  LACCESS_HHNV10  \\\n",
       "0        2388.233228               4.376378      664.216487   \n",
       "1        6404.008603               3.513570     1571.779915   \n",
       "2         770.214550               2.805166      406.142372   \n",
       "3         150.553323               0.657008      275.060875   \n",
       "4         195.049051               0.340269      705.466783   \n",
       "\n",
       "   PCT_LACCESS_HHNV10  \n",
       "0            3.284786  \n",
       "1            2.147827  \n",
       "2            4.135869  \n",
       "3            3.458580  \n",
       "4            3.269380  "
      ]
     },
     "execution_count": 5,
     "metadata": {},
     "output_type": "execute_result"
    }
   ],
   "source": [
    "FoodAccess.head()"
   ]
  },
  {
   "cell_type": "code",
   "execution_count": 6,
   "metadata": {
    "collapsed": false
   },
   "outputs": [],
   "source": [
    "#Remove the FoodAcces columns we wont use:\n",
    "for col in FoodAccess.columns[3:]:\n",
    "    if 'PCT' not in col:\n",
    "        del FoodAccess[col]\n",
    "\n",
    "FoodAccess = FoodAccess.drop('PCT_LACCESS_CHILD10', axis=1)\n",
    "FoodAccess = FoodAccess.drop('PCT_LACCESS_SENIORS10', axis=1)"
   ]
  },
  {
   "cell_type": "code",
   "execution_count": 7,
   "metadata": {
    "collapsed": true
   },
   "outputs": [],
   "source": [
    "#Merge the Access data to the Obset\n",
    "Obset = pd.merge(Obset, FoodAccess.ix[:,3:], how='left', left_on='FIPS Codes',right_on ='FIPS',left_index=True, right_index=True, sort=True, copy=True)"
   ]
  },
  {
   "cell_type": "markdown",
   "metadata": {},
   "source": [
    "#### Grocery Stores and SuperCenters\n",
    "\n",
    "4 Data Sets: \n",
    "1. Grocery Stores per 1000 people\n",
    "2. Supercenters per 1000 people\n",
    "3. Convenience Stores per 1000 people\n",
    "4. SNAP accepting Stores per 1000 people"
   ]
  },
  {
   "cell_type": "code",
   "execution_count": 8,
   "metadata": {
    "collapsed": false
   },
   "outputs": [
    {
     "data": {
      "text/html": [
       "<div>\n",
       "<table border=\"1\" class=\"dataframe\">\n",
       "  <thead>\n",
       "    <tr style=\"text-align: right;\">\n",
       "      <th></th>\n",
       "      <th>FIPS</th>\n",
       "      <th>State</th>\n",
       "      <th>County</th>\n",
       "      <th>GROC07</th>\n",
       "      <th>GROC12</th>\n",
       "      <th>PCH_GROC_07_12</th>\n",
       "      <th>GROCPTH07</th>\n",
       "      <th>GROCPTH12</th>\n",
       "      <th>PCH_GROCPTH_07_12</th>\n",
       "      <th>SUPERC07</th>\n",
       "      <th>...</th>\n",
       "      <th>PCH_SNAPS_08_12</th>\n",
       "      <th>SNAPSPTH08</th>\n",
       "      <th>SNAPSPTH12</th>\n",
       "      <th>PCH_SNAPSPTH_08_12</th>\n",
       "      <th>WICS08</th>\n",
       "      <th>WICS12</th>\n",
       "      <th>PCH_WICS_08_12</th>\n",
       "      <th>WICSPTH08</th>\n",
       "      <th>WICSPTH12</th>\n",
       "      <th>PCH_WICSPTH_08_12</th>\n",
       "    </tr>\n",
       "  </thead>\n",
       "  <tbody>\n",
       "    <tr>\n",
       "      <th>0</th>\n",
       "      <td>1001</td>\n",
       "      <td>Alabama</td>\n",
       "      <td>Autauga</td>\n",
       "      <td>4</td>\n",
       "      <td>4</td>\n",
       "      <td>0.000000</td>\n",
       "      <td>0.080266</td>\n",
       "      <td>0.072054</td>\n",
       "      <td>-10.231653</td>\n",
       "      <td>1</td>\n",
       "      <td>...</td>\n",
       "      <td>17.232376</td>\n",
       "      <td>0.633846</td>\n",
       "      <td>0.674004</td>\n",
       "      <td>6.335682</td>\n",
       "      <td>6</td>\n",
       "      <td>5</td>\n",
       "      <td>-16.66667</td>\n",
       "      <td>0.119156</td>\n",
       "      <td>0.090067</td>\n",
       "      <td>-24.412460</td>\n",
       "    </tr>\n",
       "    <tr>\n",
       "      <th>1</th>\n",
       "      <td>1003</td>\n",
       "      <td>Alabama</td>\n",
       "      <td>Baldwin</td>\n",
       "      <td>23</td>\n",
       "      <td>26</td>\n",
       "      <td>13.043478</td>\n",
       "      <td>0.133090</td>\n",
       "      <td>0.136275</td>\n",
       "      <td>2.393253</td>\n",
       "      <td>3</td>\n",
       "      <td>...</td>\n",
       "      <td>68.870804</td>\n",
       "      <td>0.464876</td>\n",
       "      <td>0.725055</td>\n",
       "      <td>55.967619</td>\n",
       "      <td>25</td>\n",
       "      <td>27</td>\n",
       "      <td>8.00000</td>\n",
       "      <td>0.141875</td>\n",
       "      <td>0.141517</td>\n",
       "      <td>-0.252126</td>\n",
       "    </tr>\n",
       "    <tr>\n",
       "      <th>2</th>\n",
       "      <td>1005</td>\n",
       "      <td>Alabama</td>\n",
       "      <td>Barbour</td>\n",
       "      <td>6</td>\n",
       "      <td>5</td>\n",
       "      <td>-16.666667</td>\n",
       "      <td>0.201776</td>\n",
       "      <td>0.183817</td>\n",
       "      <td>-8.900408</td>\n",
       "      <td>0</td>\n",
       "      <td>...</td>\n",
       "      <td>63.921569</td>\n",
       "      <td>0.712227</td>\n",
       "      <td>1.280590</td>\n",
       "      <td>79.800887</td>\n",
       "      <td>6</td>\n",
       "      <td>7</td>\n",
       "      <td>16.66667</td>\n",
       "      <td>0.201099</td>\n",
       "      <td>0.257344</td>\n",
       "      <td>27.968330</td>\n",
       "    </tr>\n",
       "    <tr>\n",
       "      <th>3</th>\n",
       "      <td>1007</td>\n",
       "      <td>Alabama</td>\n",
       "      <td>Bibb</td>\n",
       "      <td>7</td>\n",
       "      <td>5</td>\n",
       "      <td>-28.571429</td>\n",
       "      <td>0.325809</td>\n",
       "      <td>0.221268</td>\n",
       "      <td>-32.086434</td>\n",
       "      <td>0</td>\n",
       "      <td>...</td>\n",
       "      <td>62.500000</td>\n",
       "      <td>0.463199</td>\n",
       "      <td>0.719122</td>\n",
       "      <td>55.251250</td>\n",
       "      <td>6</td>\n",
       "      <td>5</td>\n",
       "      <td>-16.66667</td>\n",
       "      <td>0.277919</td>\n",
       "      <td>0.221268</td>\n",
       "      <td>-20.383970</td>\n",
       "    </tr>\n",
       "    <tr>\n",
       "      <th>4</th>\n",
       "      <td>1009</td>\n",
       "      <td>Alabama</td>\n",
       "      <td>Blount</td>\n",
       "      <td>6</td>\n",
       "      <td>8</td>\n",
       "      <td>33.333333</td>\n",
       "      <td>0.105511</td>\n",
       "      <td>0.138346</td>\n",
       "      <td>31.119796</td>\n",
       "      <td>1</td>\n",
       "      <td>...</td>\n",
       "      <td>77.431907</td>\n",
       "      <td>0.370569</td>\n",
       "      <td>0.657144</td>\n",
       "      <td>77.333719</td>\n",
       "      <td>10</td>\n",
       "      <td>6</td>\n",
       "      <td>-40.00000</td>\n",
       "      <td>0.173028</td>\n",
       "      <td>0.103760</td>\n",
       "      <td>-40.033200</td>\n",
       "    </tr>\n",
       "  </tbody>\n",
       "</table>\n",
       "<p>5 rows × 39 columns</p>\n",
       "</div>"
      ],
      "text/plain": [
       "   FIPS    State   County  GROC07  GROC12  PCH_GROC_07_12  GROCPTH07  \\\n",
       "0  1001  Alabama  Autauga       4       4        0.000000   0.080266   \n",
       "1  1003  Alabama  Baldwin      23      26       13.043478   0.133090   \n",
       "2  1005  Alabama  Barbour       6       5      -16.666667   0.201776   \n",
       "3  1007  Alabama     Bibb       7       5      -28.571429   0.325809   \n",
       "4  1009  Alabama   Blount       6       8       33.333333   0.105511   \n",
       "\n",
       "   GROCPTH12  PCH_GROCPTH_07_12  SUPERC07        ...          PCH_SNAPS_08_12  \\\n",
       "0   0.072054         -10.231653         1        ...                17.232376   \n",
       "1   0.136275           2.393253         3        ...                68.870804   \n",
       "2   0.183817          -8.900408         0        ...                63.921569   \n",
       "3   0.221268         -32.086434         0        ...                62.500000   \n",
       "4   0.138346          31.119796         1        ...                77.431907   \n",
       "\n",
       "   SNAPSPTH08  SNAPSPTH12  PCH_SNAPSPTH_08_12  WICS08  WICS12  PCH_WICS_08_12  \\\n",
       "0    0.633846    0.674004            6.335682       6       5       -16.66667   \n",
       "1    0.464876    0.725055           55.967619      25      27         8.00000   \n",
       "2    0.712227    1.280590           79.800887       6       7        16.66667   \n",
       "3    0.463199    0.719122           55.251250       6       5       -16.66667   \n",
       "4    0.370569    0.657144           77.333719      10       6       -40.00000   \n",
       "\n",
       "   WICSPTH08  WICSPTH12  PCH_WICSPTH_08_12  \n",
       "0   0.119156   0.090067         -24.412460  \n",
       "1   0.141875   0.141517          -0.252126  \n",
       "2   0.201099   0.257344          27.968330  \n",
       "3   0.277919   0.221268         -20.383970  \n",
       "4   0.173028   0.103760         -40.033200  \n",
       "\n",
       "[5 rows x 39 columns]"
      ]
     },
     "execution_count": 8,
     "metadata": {},
     "output_type": "execute_result"
    }
   ],
   "source": [
    "Stores.head()"
   ]
  },
  {
   "cell_type": "code",
   "execution_count": 9,
   "metadata": {
    "collapsed": true
   },
   "outputs": [],
   "source": [
    "#Remove the FoodAcces columns we wont use:\n",
    "for col in Stores.columns[3:]:\n",
    "    if 'PTH12' not in col:\n",
    "        del Stores[col]\n",
    "\n",
    "Stores = Stores.drop('SPECSPTH12', axis=1)\n",
    "Stores = Stores.drop('WICSPTH12', axis=1)"
   ]
  },
  {
   "cell_type": "code",
   "execution_count": 10,
   "metadata": {
    "collapsed": true
   },
   "outputs": [],
   "source": [
    "#Merge Restaurants\n",
    "Obset = pd.merge(Obset, Stores.ix[:,3:], how='left', left_on='FIPS Codes',right_on ='FIPS',left_index=True, right_index=True, sort=True, copy=True)"
   ]
  },
  {
   "cell_type": "markdown",
   "metadata": {},
   "source": [
    "#### Restaurants\n",
    "This code combines the Restaurant data with the obesity set. I will use the expenditure change from 02-07 to estimate the amount for 2012. \n",
    "\n",
    "4 Data Sets: \n",
    "1. Fast Food restaurants per 1000 people (2012)\n",
    "2. Restaurants per 1000 people (2012)\n",
    "3. Fast Food Restaurant Expenditures per capita (2012 estimate)\n",
    "4. Restaurant Expenditures per capita (2012 estimate)\n",
    "\n",
    "Estiamte Expenditures per capita: (2007/2002)*2007"
   ]
  },
  {
   "cell_type": "code",
   "execution_count": 11,
   "metadata": {
    "collapsed": false
   },
   "outputs": [
    {
     "data": {
      "text/html": [
       "<div>\n",
       "<table border=\"1\" class=\"dataframe\">\n",
       "  <thead>\n",
       "    <tr style=\"text-align: right;\">\n",
       "      <th></th>\n",
       "      <th>FIPS</th>\n",
       "      <th>State</th>\n",
       "      <th>County</th>\n",
       "      <th>FFR07</th>\n",
       "      <th>FFR12</th>\n",
       "      <th>PCH_FFR_07_12</th>\n",
       "      <th>FFRPTH07</th>\n",
       "      <th>FFRPTH12</th>\n",
       "      <th>PCH_FFRPTH_07_12</th>\n",
       "      <th>FSR07</th>\n",
       "      <th>FSR12</th>\n",
       "      <th>PCH_FSR_07_12</th>\n",
       "      <th>FSRPTH07</th>\n",
       "      <th>FSRPTH12</th>\n",
       "      <th>PCH_FSRPTH_07_12</th>\n",
       "      <th>PC_FFRSALES02</th>\n",
       "      <th>PC_FFRSALES07</th>\n",
       "      <th>PC_FSRSALES02</th>\n",
       "      <th>PC_FSRSALES07</th>\n",
       "    </tr>\n",
       "  </thead>\n",
       "  <tbody>\n",
       "    <tr>\n",
       "      <th>0</th>\n",
       "      <td>1001</td>\n",
       "      <td>Alabama</td>\n",
       "      <td>Autauga</td>\n",
       "      <td>32</td>\n",
       "      <td>34</td>\n",
       "      <td>6.250000</td>\n",
       "      <td>0.642132</td>\n",
       "      <td>0.612458</td>\n",
       "      <td>-4.621132</td>\n",
       "      <td>34</td>\n",
       "      <td>29</td>\n",
       "      <td>-14.705882</td>\n",
       "      <td>0.682265</td>\n",
       "      <td>0.522391</td>\n",
       "      <td>-23.432881</td>\n",
       "      <td>470</td>\n",
       "      <td>649.511367</td>\n",
       "      <td>349</td>\n",
       "      <td>484.381507</td>\n",
       "    </tr>\n",
       "    <tr>\n",
       "      <th>1</th>\n",
       "      <td>1003</td>\n",
       "      <td>Alabama</td>\n",
       "      <td>Baldwin</td>\n",
       "      <td>129</td>\n",
       "      <td>130</td>\n",
       "      <td>0.775194</td>\n",
       "      <td>0.746463</td>\n",
       "      <td>0.681377</td>\n",
       "      <td>-8.719193</td>\n",
       "      <td>184</td>\n",
       "      <td>211</td>\n",
       "      <td>14.673913</td>\n",
       "      <td>1.064722</td>\n",
       "      <td>1.105928</td>\n",
       "      <td>3.870079</td>\n",
       "      <td>470</td>\n",
       "      <td>649.511367</td>\n",
       "      <td>349</td>\n",
       "      <td>484.381507</td>\n",
       "    </tr>\n",
       "    <tr>\n",
       "      <th>2</th>\n",
       "      <td>1005</td>\n",
       "      <td>Alabama</td>\n",
       "      <td>Barbour</td>\n",
       "      <td>20</td>\n",
       "      <td>21</td>\n",
       "      <td>5.000000</td>\n",
       "      <td>0.672585</td>\n",
       "      <td>0.772030</td>\n",
       "      <td>14.785486</td>\n",
       "      <td>11</td>\n",
       "      <td>14</td>\n",
       "      <td>27.272727</td>\n",
       "      <td>0.369922</td>\n",
       "      <td>0.514687</td>\n",
       "      <td>39.133922</td>\n",
       "      <td>470</td>\n",
       "      <td>649.511367</td>\n",
       "      <td>349</td>\n",
       "      <td>484.381507</td>\n",
       "    </tr>\n",
       "    <tr>\n",
       "      <th>3</th>\n",
       "      <td>1007</td>\n",
       "      <td>Alabama</td>\n",
       "      <td>Bibb</td>\n",
       "      <td>8</td>\n",
       "      <td>6</td>\n",
       "      <td>-25.000000</td>\n",
       "      <td>0.372353</td>\n",
       "      <td>0.265522</td>\n",
       "      <td>-28.690755</td>\n",
       "      <td>8</td>\n",
       "      <td>4</td>\n",
       "      <td>-50.000000</td>\n",
       "      <td>0.372353</td>\n",
       "      <td>0.177015</td>\n",
       "      <td>-52.460504</td>\n",
       "      <td>470</td>\n",
       "      <td>649.511367</td>\n",
       "      <td>349</td>\n",
       "      <td>484.381507</td>\n",
       "    </tr>\n",
       "    <tr>\n",
       "      <th>4</th>\n",
       "      <td>1009</td>\n",
       "      <td>Alabama</td>\n",
       "      <td>Blount</td>\n",
       "      <td>27</td>\n",
       "      <td>22</td>\n",
       "      <td>-18.518519</td>\n",
       "      <td>0.474800</td>\n",
       "      <td>0.380452</td>\n",
       "      <td>-19.871236</td>\n",
       "      <td>14</td>\n",
       "      <td>13</td>\n",
       "      <td>-7.142857</td>\n",
       "      <td>0.246193</td>\n",
       "      <td>0.224812</td>\n",
       "      <td>-8.684428</td>\n",
       "      <td>470</td>\n",
       "      <td>649.511367</td>\n",
       "      <td>349</td>\n",
       "      <td>484.381507</td>\n",
       "    </tr>\n",
       "  </tbody>\n",
       "</table>\n",
       "</div>"
      ],
      "text/plain": [
       "   FIPS    State   County  FFR07  FFR12  PCH_FFR_07_12  FFRPTH07  FFRPTH12  \\\n",
       "0  1001  Alabama  Autauga     32     34       6.250000  0.642132  0.612458   \n",
       "1  1003  Alabama  Baldwin    129    130       0.775194  0.746463  0.681377   \n",
       "2  1005  Alabama  Barbour     20     21       5.000000  0.672585  0.772030   \n",
       "3  1007  Alabama     Bibb      8      6     -25.000000  0.372353  0.265522   \n",
       "4  1009  Alabama   Blount     27     22     -18.518519  0.474800  0.380452   \n",
       "\n",
       "   PCH_FFRPTH_07_12  FSR07  FSR12  PCH_FSR_07_12  FSRPTH07  FSRPTH12  \\\n",
       "0         -4.621132     34     29     -14.705882  0.682265  0.522391   \n",
       "1         -8.719193    184    211      14.673913  1.064722  1.105928   \n",
       "2         14.785486     11     14      27.272727  0.369922  0.514687   \n",
       "3        -28.690755      8      4     -50.000000  0.372353  0.177015   \n",
       "4        -19.871236     14     13      -7.142857  0.246193  0.224812   \n",
       "\n",
       "   PCH_FSRPTH_07_12  PC_FFRSALES02  PC_FFRSALES07  PC_FSRSALES02  \\\n",
       "0        -23.432881            470     649.511367            349   \n",
       "1          3.870079            470     649.511367            349   \n",
       "2         39.133922            470     649.511367            349   \n",
       "3        -52.460504            470     649.511367            349   \n",
       "4         -8.684428            470     649.511367            349   \n",
       "\n",
       "   PC_FSRSALES07  \n",
       "0     484.381507  \n",
       "1     484.381507  \n",
       "2     484.381507  \n",
       "3     484.381507  \n",
       "4     484.381507  "
      ]
     },
     "execution_count": 11,
     "metadata": {},
     "output_type": "execute_result"
    }
   ],
   "source": [
    "Restaurants.head()"
   ]
  },
  {
   "cell_type": "code",
   "execution_count": 12,
   "metadata": {
    "collapsed": true
   },
   "outputs": [],
   "source": [
    "#Remove the FoodAcces columns we wont use:\n",
    "for col in Restaurants.columns[3:]:\n",
    "    if 'PTH12' not in col and 'PC_F' not in col:\n",
    "        del Restaurants[col]"
   ]
  },
  {
   "cell_type": "code",
   "execution_count": 13,
   "metadata": {
    "collapsed": true
   },
   "outputs": [],
   "source": [
    "#Find the change in expenditures and use this to estimate 2012\n",
    "Restaurants['PC_FFRSALES12'] = ( Restaurants['PC_FFRSALES07'] / Restaurants['PC_FFRSALES02'] ) * Restaurants['PC_FFRSALES07']\n",
    "Restaurants['PC_FSRSALES12'] = ( Restaurants['PC_FSRSALES07'] / Restaurants['PC_FSRSALES02'] ) * Restaurants['PC_FSRSALES07']"
   ]
  },
  {
   "cell_type": "code",
   "execution_count": 14,
   "metadata": {
    "collapsed": false
   },
   "outputs": [],
   "source": [
    "#Remove the now unneeded expenditure columns\n",
    "Restaurants = Restaurants.drop('PC_FFRSALES02', axis=1)\n",
    "Restaurants = Restaurants.drop('PC_FFRSALES07', axis=1)\n",
    "Restaurants = Restaurants.drop('PC_FSRSALES02', axis=1)\n",
    "Restaurants = Restaurants.drop('PC_FSRSALES07', axis=1)"
   ]
  },
  {
   "cell_type": "code",
   "execution_count": 15,
   "metadata": {
    "collapsed": true
   },
   "outputs": [],
   "source": [
    "#Merge Restaurants\n",
    "Obset = pd.merge(Obset, Restaurants.ix[:,3:], how='left', left_on='FIPS Codes',right_on ='FIPS',left_index=True, right_index=True, sort=True, copy=True)"
   ]
  },
  {
   "cell_type": "markdown",
   "metadata": {},
   "source": [
    "#### Low Income Food Assistance\n",
    "\n",
    "8 Data Sets: \n",
    "1. SNAP redemptions/SNAP-authorized stores, 2012\n",
    "2. SNAP participants (% pop), 2009\n",
    "3. SNAP benefits per capita, 2010\n",
    "4. SNAP participants (% eligible pop), 2010*\n",
    "5. National School Lunch Program participants (% pop), 2009\n",
    "6. Students eligible for free lunch (%), 2010\n",
    "7. Students eligible for reduced-price lunch (%), 2010\n",
    "8. SchoolSchool Breakfast Program participants (% pop), 2009"
   ]
  },
  {
   "cell_type": "code",
   "execution_count": 16,
   "metadata": {
    "collapsed": false
   },
   "outputs": [],
   "source": [
    "Keep = ['FIPS','REDEMP_SNAPS12','PCT_SNAP09','PC_SNAPBEN10',\n",
    " 'SNAP_PART_RATE10','PCT_NSLP09','PCT_FREE_LUNCH10','PCT_REDUCED_LUNCH10','PCT_SBP09']\n",
    "Assistance2 = Assistance[Keep]"
   ]
  },
  {
   "cell_type": "code",
   "execution_count": 17,
   "metadata": {
    "collapsed": true
   },
   "outputs": [],
   "source": [
    "#Merge Assistance2\n",
    "Obset = pd.merge(Obset, Assistance2.ix[:,1:], how='left', left_on='FIPS Codes',right_on ='FIPS',left_index=True, right_index=True, sort=True, copy=True)"
   ]
  },
  {
   "cell_type": "code",
   "execution_count": 18,
   "metadata": {
    "collapsed": false
   },
   "outputs": [
    {
     "data": {
      "text/html": [
       "<div>\n",
       "<table border=\"1\" class=\"dataframe\">\n",
       "  <thead>\n",
       "    <tr style=\"text-align: right;\">\n",
       "      <th></th>\n",
       "      <th>State</th>\n",
       "      <th>FIPS Codes</th>\n",
       "      <th>County</th>\n",
       "      <th>number 2009</th>\n",
       "      <th>percent 2009</th>\n",
       "      <th>number 2010</th>\n",
       "      <th>percent 2010</th>\n",
       "      <th>number 2012</th>\n",
       "      <th>percent 2012</th>\n",
       "      <th>FarmersMkts Per County</th>\n",
       "      <th>...</th>\n",
       "      <th>PC_FFRSALES12</th>\n",
       "      <th>PC_FSRSALES12</th>\n",
       "      <th>REDEMP_SNAPS12</th>\n",
       "      <th>PCT_SNAP09</th>\n",
       "      <th>PC_SNAPBEN10</th>\n",
       "      <th>SNAP_PART_RATE10</th>\n",
       "      <th>PCT_NSLP09</th>\n",
       "      <th>PCT_FREE_LUNCH10</th>\n",
       "      <th>PCT_REDUCED_LUNCH10</th>\n",
       "      <th>PCT_SBP09</th>\n",
       "    </tr>\n",
       "  </thead>\n",
       "  <tbody>\n",
       "    <tr>\n",
       "      <th>2311</th>\n",
       "      <td>South Carolina</td>\n",
       "      <td>45001</td>\n",
       "      <td>Abbeville</td>\n",
       "      <td>6066</td>\n",
       "      <td>32.6</td>\n",
       "      <td>6525</td>\n",
       "      <td>34.8</td>\n",
       "      <td>6425</td>\n",
       "      <td>34.2</td>\n",
       "      <td>1</td>\n",
       "      <td>...</td>\n",
       "      <td>1032.881405</td>\n",
       "      <td>1105.777696</td>\n",
       "      <td>231131.337600</td>\n",
       "      <td>15.187587</td>\n",
       "      <td>NaN</td>\n",
       "      <td>100</td>\n",
       "      <td>8.124539</td>\n",
       "      <td>53.490760</td>\n",
       "      <td>7.323751</td>\n",
       "      <td>3.628945</td>\n",
       "    </tr>\n",
       "    <tr>\n",
       "      <th>1108</th>\n",
       "      <td>Louisiana</td>\n",
       "      <td>22001</td>\n",
       "      <td>Acadia Parish</td>\n",
       "      <td>13691</td>\n",
       "      <td>32.7</td>\n",
       "      <td>13928</td>\n",
       "      <td>32.2</td>\n",
       "      <td>13957</td>\n",
       "      <td>31.9</td>\n",
       "      <td>0</td>\n",
       "      <td>...</td>\n",
       "      <td>769.455324</td>\n",
       "      <td>682.895059</td>\n",
       "      <td>318717.271879</td>\n",
       "      <td>7.778811</td>\n",
       "      <td>8.649992</td>\n",
       "      <td>69</td>\n",
       "      <td>12.647286</td>\n",
       "      <td>25.842386</td>\n",
       "      <td>7.963745</td>\n",
       "      <td>3.416376</td>\n",
       "    </tr>\n",
       "    <tr>\n",
       "      <th>2815</th>\n",
       "      <td>Virginia</td>\n",
       "      <td>51001</td>\n",
       "      <td>Accomack</td>\n",
       "      <td>9679</td>\n",
       "      <td>33.4</td>\n",
       "      <td>9056</td>\n",
       "      <td>35.5</td>\n",
       "      <td>9367</td>\n",
       "      <td>36.6</td>\n",
       "      <td>3</td>\n",
       "      <td>...</td>\n",
       "      <td>503.684250</td>\n",
       "      <td>813.832117</td>\n",
       "      <td>142285.647329</td>\n",
       "      <td>11.600135</td>\n",
       "      <td>NaN</td>\n",
       "      <td>98</td>\n",
       "      <td>8.823179</td>\n",
       "      <td>34.161158</td>\n",
       "      <td>7.253886</td>\n",
       "      <td>3.443290</td>\n",
       "    </tr>\n",
       "    <tr>\n",
       "      <th>546</th>\n",
       "      <td>Idaho</td>\n",
       "      <td>16001</td>\n",
       "      <td>Ada</td>\n",
       "      <td>64348</td>\n",
       "      <td>23.3</td>\n",
       "      <td>65831</td>\n",
       "      <td>23.5</td>\n",
       "      <td>71992</td>\n",
       "      <td>24.5</td>\n",
       "      <td>7</td>\n",
       "      <td>...</td>\n",
       "      <td>842.255078</td>\n",
       "      <td>724.786329</td>\n",
       "      <td>191042.948000</td>\n",
       "      <td>16.266542</td>\n",
       "      <td>17.268707</td>\n",
       "      <td>85</td>\n",
       "      <td>13.229950</td>\n",
       "      <td>48.005698</td>\n",
       "      <td>8.641975</td>\n",
       "      <td>5.534904</td>\n",
       "    </tr>\n",
       "    <tr>\n",
       "      <th>784</th>\n",
       "      <td>Iowa</td>\n",
       "      <td>19001</td>\n",
       "      <td>Adair</td>\n",
       "      <td>1726</td>\n",
       "      <td>30.6</td>\n",
       "      <td>1853</td>\n",
       "      <td>31.8</td>\n",
       "      <td>1767</td>\n",
       "      <td>31.0</td>\n",
       "      <td>1</td>\n",
       "      <td>...</td>\n",
       "      <td>875.445896</td>\n",
       "      <td>812.030461</td>\n",
       "      <td>233997.369150</td>\n",
       "      <td>8.813748</td>\n",
       "      <td>21.386731</td>\n",
       "      <td>81</td>\n",
       "      <td>10.997729</td>\n",
       "      <td>32.574937</td>\n",
       "      <td>8.522932</td>\n",
       "      <td>4.582090</td>\n",
       "    </tr>\n",
       "  </tbody>\n",
       "</table>\n",
       "<p>5 rows × 29 columns</p>\n",
       "</div>"
      ],
      "text/plain": [
       "               State  FIPS Codes         County  number 2009  percent 2009  \\\n",
       "2311  South Carolina       45001      Abbeville         6066          32.6   \n",
       "1108       Louisiana       22001  Acadia Parish        13691          32.7   \n",
       "2815        Virginia       51001       Accomack         9679          33.4   \n",
       "546            Idaho       16001            Ada        64348          23.3   \n",
       "784             Iowa       19001          Adair         1726          30.6   \n",
       "\n",
       "      number 2010  percent 2010  number 2012  percent 2012  \\\n",
       "2311         6525          34.8         6425          34.2   \n",
       "1108        13928          32.2        13957          31.9   \n",
       "2815         9056          35.5         9367          36.6   \n",
       "546         65831          23.5        71992          24.5   \n",
       "784          1853          31.8         1767          31.0   \n",
       "\n",
       "      FarmersMkts Per County    ...      PC_FFRSALES12  PC_FSRSALES12  \\\n",
       "2311                       1    ...        1032.881405    1105.777696   \n",
       "1108                       0    ...         769.455324     682.895059   \n",
       "2815                       3    ...         503.684250     813.832117   \n",
       "546                        7    ...         842.255078     724.786329   \n",
       "784                        1    ...         875.445896     812.030461   \n",
       "\n",
       "      REDEMP_SNAPS12  PCT_SNAP09  PC_SNAPBEN10  SNAP_PART_RATE10  PCT_NSLP09  \\\n",
       "2311   231131.337600   15.187587           NaN               100    8.124539   \n",
       "1108   318717.271879    7.778811      8.649992                69   12.647286   \n",
       "2815   142285.647329   11.600135           NaN                98    8.823179   \n",
       "546    191042.948000   16.266542     17.268707                85   13.229950   \n",
       "784    233997.369150    8.813748     21.386731                81   10.997729   \n",
       "\n",
       "      PCT_FREE_LUNCH10  PCT_REDUCED_LUNCH10  PCT_SBP09  \n",
       "2311         53.490760             7.323751   3.628945  \n",
       "1108         25.842386             7.963745   3.416376  \n",
       "2815         34.161158             7.253886   3.443290  \n",
       "546          48.005698             8.641975   5.534904  \n",
       "784          32.574937             8.522932   4.582090  \n",
       "\n",
       "[5 rows x 29 columns]"
      ]
     },
     "execution_count": 18,
     "metadata": {},
     "output_type": "execute_result"
    }
   ],
   "source": [
    "Obset.head()"
   ]
  },
  {
   "cell_type": "markdown",
   "metadata": {},
   "source": [
    "#### Food Insecurity\n",
    "\n",
    "2 Data Sets: \n",
    "1. Household food insecurity (%, three-year average), 2010-12\n",
    "2. Household very low food security (%, three-year average), 2010-12"
   ]
  },
  {
   "cell_type": "code",
   "execution_count": 19,
   "metadata": {
    "collapsed": false
   },
   "outputs": [],
   "source": [
    "Keep = ['FIPS','FOODINSEC_10_12','VLFOODSEC_10_12']\n",
    "Insecurity2 = Insecurity[Keep]"
   ]
  },
  {
   "cell_type": "code",
   "execution_count": 20,
   "metadata": {
    "collapsed": true
   },
   "outputs": [],
   "source": [
    "#Merge Assistance2\n",
    "Obset = pd.merge(Obset, Insecurity2.ix[:,1:], how='left', left_on='FIPS Codes',right_on ='FIPS',left_index=True, right_index=True, sort=True, copy=True)"
   ]
  },
  {
   "cell_type": "markdown",
   "metadata": {},
   "source": [
    "#### Local food Factors\n",
    "\n",
    "2 Data Sets: \n",
    "1. Farmers' markets, 2013"
   ]
  },
  {
   "cell_type": "code",
   "execution_count": 21,
   "metadata": {
    "collapsed": false
   },
   "outputs": [
    {
     "data": {
      "text/html": [
       "<div>\n",
       "<table border=\"1\" class=\"dataframe\">\n",
       "  <thead>\n",
       "    <tr style=\"text-align: right;\">\n",
       "      <th></th>\n",
       "      <th>FIPS</th>\n",
       "      <th>State</th>\n",
       "      <th>County</th>\n",
       "      <th>DIRSALES_FARMS07</th>\n",
       "      <th>PCT_LOCLFARM07</th>\n",
       "      <th>PCT_LOCLSALE07</th>\n",
       "      <th>DIRSALES07</th>\n",
       "      <th>PC_DIRSALES07</th>\n",
       "      <th>FMRKT09</th>\n",
       "      <th>FMRKT13</th>\n",
       "      <th>...</th>\n",
       "      <th>BERRY_ACRESPTH07</th>\n",
       "      <th>SLHOUSE07</th>\n",
       "      <th>GHVEG_FARMS07</th>\n",
       "      <th>GHVEG_SQFT07</th>\n",
       "      <th>GHVEG_SQFTPTH07</th>\n",
       "      <th>FOODHUB12</th>\n",
       "      <th>CSA07</th>\n",
       "      <th>AGRITRSM_OPS07</th>\n",
       "      <th>AGRITRSM_RCT07</th>\n",
       "      <th>FARM_TO_SCHOOL</th>\n",
       "    </tr>\n",
       "  </thead>\n",
       "  <tbody>\n",
       "    <tr>\n",
       "      <th>0</th>\n",
       "      <td>1001</td>\n",
       "      <td>Alabama</td>\n",
       "      <td>Autauga</td>\n",
       "      <td>25</td>\n",
       "      <td>6.0</td>\n",
       "      <td>0.6</td>\n",
       "      <td>100</td>\n",
       "      <td>2.01</td>\n",
       "      <td>2</td>\n",
       "      <td>1</td>\n",
       "      <td>...</td>\n",
       "      <td>NaN</td>\n",
       "      <td>0</td>\n",
       "      <td>0</td>\n",
       "      <td>0</td>\n",
       "      <td>0</td>\n",
       "      <td>0</td>\n",
       "      <td>2</td>\n",
       "      <td>7</td>\n",
       "      <td>228000</td>\n",
       "      <td>0</td>\n",
       "    </tr>\n",
       "    <tr>\n",
       "      <th>1</th>\n",
       "      <td>1003</td>\n",
       "      <td>Alabama</td>\n",
       "      <td>Baldwin</td>\n",
       "      <td>80</td>\n",
       "      <td>7.0</td>\n",
       "      <td>0.7</td>\n",
       "      <td>715</td>\n",
       "      <td>4.16</td>\n",
       "      <td>4</td>\n",
       "      <td>4</td>\n",
       "      <td>...</td>\n",
       "      <td>0.457136</td>\n",
       "      <td>1</td>\n",
       "      <td>0</td>\n",
       "      <td>0</td>\n",
       "      <td>0</td>\n",
       "      <td>0</td>\n",
       "      <td>13</td>\n",
       "      <td>18</td>\n",
       "      <td>124000</td>\n",
       "      <td>0</td>\n",
       "    </tr>\n",
       "    <tr>\n",
       "      <th>2</th>\n",
       "      <td>1005</td>\n",
       "      <td>Alabama</td>\n",
       "      <td>Barbour</td>\n",
       "      <td>18</td>\n",
       "      <td>2.9</td>\n",
       "      <td>0.0</td>\n",
       "      <td>11</td>\n",
       "      <td>0.37</td>\n",
       "      <td>2</td>\n",
       "      <td>3</td>\n",
       "      <td>...</td>\n",
       "      <td>NaN</td>\n",
       "      <td>0</td>\n",
       "      <td>0</td>\n",
       "      <td>0</td>\n",
       "      <td>0</td>\n",
       "      <td>0</td>\n",
       "      <td>1</td>\n",
       "      <td>27</td>\n",
       "      <td>163000</td>\n",
       "      <td>0</td>\n",
       "    </tr>\n",
       "    <tr>\n",
       "      <th>3</th>\n",
       "      <td>1007</td>\n",
       "      <td>Alabama</td>\n",
       "      <td>Bibb</td>\n",
       "      <td>12</td>\n",
       "      <td>5.7</td>\n",
       "      <td>NaN</td>\n",
       "      <td>46</td>\n",
       "      <td>2.14</td>\n",
       "      <td>1</td>\n",
       "      <td>1</td>\n",
       "      <td>...</td>\n",
       "      <td>0.279265</td>\n",
       "      <td>0</td>\n",
       "      <td>0</td>\n",
       "      <td>0</td>\n",
       "      <td>0</td>\n",
       "      <td>0</td>\n",
       "      <td>2</td>\n",
       "      <td>5</td>\n",
       "      <td>NaN</td>\n",
       "      <td>0</td>\n",
       "    </tr>\n",
       "    <tr>\n",
       "      <th>4</th>\n",
       "      <td>1009</td>\n",
       "      <td>Alabama</td>\n",
       "      <td>Blount</td>\n",
       "      <td>84</td>\n",
       "      <td>5.9</td>\n",
       "      <td>0.3</td>\n",
       "      <td>429</td>\n",
       "      <td>7.59</td>\n",
       "      <td>1</td>\n",
       "      <td>1</td>\n",
       "      <td>...</td>\n",
       "      <td>0.492386</td>\n",
       "      <td>0</td>\n",
       "      <td>2</td>\n",
       "      <td>NaN</td>\n",
       "      <td>NaN</td>\n",
       "      <td>0</td>\n",
       "      <td>7</td>\n",
       "      <td>10</td>\n",
       "      <td>293000</td>\n",
       "      <td>0</td>\n",
       "    </tr>\n",
       "  </tbody>\n",
       "</table>\n",
       "<p>5 rows × 49 columns</p>\n",
       "</div>"
      ],
      "text/plain": [
       "   FIPS    State   County  DIRSALES_FARMS07  PCT_LOCLFARM07  PCT_LOCLSALE07  \\\n",
       "0  1001  Alabama  Autauga                25             6.0             0.6   \n",
       "1  1003  Alabama  Baldwin                80             7.0             0.7   \n",
       "2  1005  Alabama  Barbour                18             2.9             0.0   \n",
       "3  1007  Alabama     Bibb                12             5.7             NaN   \n",
       "4  1009  Alabama   Blount                84             5.9             0.3   \n",
       "\n",
       "   DIRSALES07  PC_DIRSALES07  FMRKT09  FMRKT13       ...        \\\n",
       "0         100           2.01        2        1       ...         \n",
       "1         715           4.16        4        4       ...         \n",
       "2          11           0.37        2        3       ...         \n",
       "3          46           2.14        1        1       ...         \n",
       "4         429           7.59        1        1       ...         \n",
       "\n",
       "   BERRY_ACRESPTH07  SLHOUSE07  GHVEG_FARMS07  GHVEG_SQFT07  GHVEG_SQFTPTH07  \\\n",
       "0               NaN          0              0             0                0   \n",
       "1          0.457136          1              0             0                0   \n",
       "2               NaN          0              0             0                0   \n",
       "3          0.279265          0              0             0                0   \n",
       "4          0.492386          0              2           NaN              NaN   \n",
       "\n",
       "   FOODHUB12  CSA07  AGRITRSM_OPS07  AGRITRSM_RCT07  FARM_TO_SCHOOL  \n",
       "0          0      2               7          228000               0  \n",
       "1          0     13              18          124000               0  \n",
       "2          0      1              27          163000               0  \n",
       "3          0      2               5             NaN               0  \n",
       "4          0      7              10          293000               0  \n",
       "\n",
       "[5 rows x 49 columns]"
      ]
     },
     "execution_count": 21,
     "metadata": {},
     "output_type": "execute_result"
    }
   ],
   "source": [
    "Local.head()"
   ]
  },
  {
   "cell_type": "code",
   "execution_count": 22,
   "metadata": {
    "collapsed": true
   },
   "outputs": [],
   "source": [
    "Keep = ['FIPS', 'FMRKT13']\n",
    "Local2 = Local[Keep]"
   ]
  },
  {
   "cell_type": "code",
   "execution_count": 23,
   "metadata": {
    "collapsed": false
   },
   "outputs": [],
   "source": [
    "#Merge Assistance2\n",
    "Obset2 = pd.merge(Obset, Local2.ix[:,1:], how='left', left_on='FIPS Codes',right_on ='FIPS',left_index=True, right_index=True, sort=True, copy=True)"
   ]
  },
  {
   "cell_type": "code",
   "execution_count": 24,
   "metadata": {
    "collapsed": false
   },
   "outputs": [],
   "source": [
    "Obset2['FDiff'] = Obset2['FarmersMkts Per County'] - Obset2['FMRKT13']"
   ]
  },
  {
   "cell_type": "code",
   "execution_count": 25,
   "metadata": {
    "collapsed": false
   },
   "outputs": [
    {
     "data": {
      "text/plain": [
       "count    3103.000000\n",
       "mean       -0.220110\n",
       "std         7.103923\n",
       "min      -129.000000\n",
       "25%        -1.000000\n",
       "50%         0.000000\n",
       "75%         1.000000\n",
       "max       112.000000\n",
       "Name: FDiff, dtype: float64"
      ]
     },
     "execution_count": 25,
     "metadata": {},
     "output_type": "execute_result"
    }
   ],
   "source": [
    "Obset2['FDiff'].describe()"
   ]
  },
  {
   "cell_type": "code",
   "execution_count": 26,
   "metadata": {
    "collapsed": true
   },
   "outputs": [],
   "source": [
    "def plot_confusion_matrix(cm, title='Confusion matrix', cmap=plt.cm.Blues):\n",
    "    plt.imshow(cm, interpolation='nearest', cmap=cmap)\n",
    "    plt.title(title)\n",
    "    plt.colorbar()\n",
    "    plt.tight_layout()\n",
    "    plt.ylabel('True label')\n",
    "    plt.xlabel('Predicted label')"
   ]
  },
  {
   "cell_type": "markdown",
   "metadata": {},
   "source": [
    "## Multivariable Regression\n",
    "\n",
    "Here I will use the sklearn linear_model to see if there is any relationship between the many variables that I have loaded into the Obset"
   ]
  },
  {
   "cell_type": "markdown",
   "metadata": {},
   "source": [
    "Column Name| Description\n",
    "-|-\n",
    "FarmersMkts Per County| Farmers Markets Per County  \n",
    "PCT_LACCESS_POP10| Percent of the popultion who have access to grocery stores  \n",
    "PCT_LACCESS_LOWI10| Low Income Percent of the popultion who have access to grocery stores  \n",
    "PCT_LACCESS_HHNV10| Low Income Percent of the popultion who have access to grocery stores without a car  \n",
    "GROCPTH12| Grocery stores per 1000 people  \n",
    "SUPERCPTH12| Supercenters per 1000 people  \n",
    "CONVSPTH12| Convenience Stores per 1000 people  \n",
    "SNAPSPTH12| SNAP-authorized stores per 1,000 people  \n",
    "FFRPTH12| Fast-food restaurants per 1,000 people  \n",
    "FSRPTH12| Full-service restaurants per 1,000 people  \n",
    "PC_FFRSALES12| Expenditures per capita, fast food  \n",
    "PC_FSRSALES12| Expenditures per capita, full service restaurant  \n",
    "REDEMP_SNAPS12| SNAP redemptions/SNAP-authorized stores  \n",
    "PCT_SNAP09| SNAP participants (% pop)  \n",
    "PC_SNAPBEN10| SNAP benefits per capita  \n",
    "SNAP_PART_RATE10| SNAP participants (% eligible pop)  \n",
    "PCT_NSLP09| National School Lunch Program participants (% pop)  \n",
    "PCT_FREE_LUNCH10| Students eligible for free lunch (%)  \n",
    "PCT_REDUCED_LUNCH10| Students eligible for reduced-price lunch (%)  \n",
    "PCT_SBP09| School Breakfast Program participants (% pop)  \n",
    "FOODINSEC_10_12| Household food insecurity (%, three-year average)  \n",
    "VLFOODSEC_10_12| Household very low food security (%, three-year average)\n"
   ]
  },
  {
   "cell_type": "code",
   "execution_count": 27,
   "metadata": {
    "collapsed": false
   },
   "outputs": [],
   "source": [
    "from sklearn import linear_model\n",
    "from sklearn import cross_validation\n",
    "\n",
    "ObsetRun = Obset.dropna(how='any')"
   ]
  },
  {
   "cell_type": "code",
   "execution_count": 28,
   "metadata": {
    "collapsed": false
   },
   "outputs": [
    {
     "name": "stdout",
     "output_type": "stream",
     "text": [
      "Linear Val Scores: \n",
      "[ 0.20770397  0.19656174  0.26683659  0.16080879  0.29275297  0.24615867\n",
      "  0.2219972   0.16486412  0.20460455  0.14678354]\n",
      "\n",
      "Mean Linear Val Score: \n",
      "0.210907213594\n"
     ]
    }
   ],
   "source": [
    "Obset3 = Obset.dropna(how='any')\n",
    "\n",
    "#Load Train and Test datasets\n",
    "#Identify feature and response variable(s) and values must be numeric and numpy arrays\n",
    "ColNames = ['FarmersMkts Per County', 'PCT_LACCESS_POP10','PCT_LACCESS_LOWI10', 'PCT_LACCESS_HHNV10', 'GROCPTH12',\n",
    "       'SUPERCPTH12', 'CONVSPTH12', 'SNAPSPTH12', 'FFRPTH12','FSRPTH12', 'PC_FFRSALES12', 'PC_FSRSALES12', 'REDEMP_SNAPS12',\n",
    "       'PCT_SNAP09', 'PC_SNAPBEN10', 'SNAP_PART_RATE10', 'PCT_NSLP09','PCT_FREE_LUNCH10', 'PCT_REDUCED_LUNCH10', 'PCT_SBP09',\n",
    "       'FOODINSEC_10_12', 'VLFOODSEC_10_12']\n",
    "\n",
    "x_train, x_test, y_train, y_test = cross_validation.train_test_split(Obset3[ColNames], Obset3['percent 2012'],train_size=.9)\n",
    "\n",
    "# Create linear regression object\n",
    "linear = linear_model.LinearRegression()\n",
    "\n",
    "#Cross Validation for multiple results\n",
    "Lin_vals = cross_validation.cross_val_score(linear, x_train, y_train, cv=10)\n",
    "\n",
    "# Train the model using the training sets and check score\n",
    "linear.fit(x_train, y_train)\n",
    "linear.score(x_train, y_train)\n",
    "\n",
    "#Equation coefficient and Intercept\n",
    "#print 'Coefficient: \\n', linear.coef_\n",
    "#print\n",
    "#print 'Intercept: %.4f' % linear.intercept_\n",
    "#print \n",
    "#print 'Variance score: %.4f' % linear.score(x_test, y_test)\n",
    "#print \n",
    "print 'Linear Val Scores: \\n', Lin_vals\n",
    "print\n",
    "print 'Mean Linear Val Score: \\n', np.mean(Lin_vals)"
   ]
  },
  {
   "cell_type": "markdown",
   "metadata": {},
   "source": [
    "##### Conclusion: Poor fit\n",
    "The coefficients of the line vary too much to get a meaningful model.\n",
    "###### Next Step: Group the Variables by type and make multiple multivariable linear regression lines:"
   ]
  },
  {
   "cell_type": "code",
   "execution_count": 29,
   "metadata": {
    "collapsed": true
   },
   "outputs": [],
   "source": [
    "ColNames = ['FarmersMkts Per County', 'PCT_LACCESS_POP10','PCT_LACCESS_LOWI10', 'PCT_LACCESS_HHNV10', 'GROCPTH12',\n",
    "       'SUPERCPTH12', 'CONVSPTH12', 'SNAPSPTH12', 'FFRPTH12','FSRPTH12', 'PC_FFRSALES12', 'PC_FSRSALES12', 'REDEMP_SNAPS12',\n",
    "       'PCT_SNAP09', 'PC_SNAPBEN10', 'SNAP_PART_RATE10', 'PCT_NSLP09','PCT_FREE_LUNCH10', 'PCT_REDUCED_LUNCH10', 'PCT_SBP09',\n",
    "       'FOODINSEC_10_12', 'VLFOODSEC_10_12']\n",
    "\n",
    "FoodAccess = ['FarmersMkts Per County', 'PCT_LACCESS_POP10','PCT_LACCESS_LOWI10', 'PCT_LACCESS_HHNV10', 'GROCPTH12',\n",
    "              'SUPERCPTH12', 'CONVSPTH12','FFRPTH12','FSRPTH12']\n",
    "\n",
    "SocioEcon = ['SNAPSPTH12','REDEMP_SNAPS12','PCT_SNAP09', 'PC_SNAPBEN10', 'SNAP_PART_RATE10', 'PCT_NSLP09','PCT_FREE_LUNCH10', \n",
    "             'PCT_REDUCED_LUNCH10', 'PCT_SBP09','FOODINSEC_10_12', 'VLFOODSEC_10_12']\n",
    "\n",
    "SNAP = ['SNAPSPTH12','REDEMP_SNAPS12','PCT_SNAP09', 'PC_SNAPBEN10', 'SNAP_PART_RATE10']\n",
    "\n",
    "PopAct = ['PC_FFRSALES12', 'PC_FSRSALES12']"
   ]
  },
  {
   "cell_type": "markdown",
   "metadata": {},
   "source": [
    "Look up:\n",
    "Feature importance\n",
    "Feature weight\n"
   ]
  },
  {
   "cell_type": "markdown",
   "metadata": {},
   "source": [
    "## Classify the Obesity Rate to Apply Logisitic Regression\n",
    "\n",
    "Since the Obesity rate has a large variance our modeling is not good at predicting it accurately so here I will categorize the Obesity rate into 2 classes: Acceptable and Unnaceptable. \n",
    "\n",
    "This categorization will be determined by the median value of the percentage of Obesity per county. If the county is below the median, it will be classified with a 0 and 1 otherwise. "
   ]
  },
  {
   "cell_type": "code",
   "execution_count": 30,
   "metadata": {
    "collapsed": true
   },
   "outputs": [],
   "source": [
    "obmedian = np.median(Obset['percent 2012'])\n",
    "print obmedian\n",
    "#obmedian = 29.0 #this is the cut off that the government uses to distinguish between high and low obesity % rates\n",
    "\n",
    "def medd(percent):\n",
    "    if percent > obmedian:\n",
    "        return 1\n",
    "    else:\n",
    "        return 0"
   ]
  },
  {
   "cell_type": "code",
   "execution_count": 31,
   "metadata": {
    "collapsed": false
   },
   "outputs": [],
   "source": [
    "Obset['median12'] = Obset['percent 2012'].apply(medd)"
   ]
  },
  {
   "cell_type": "markdown",
   "metadata": {},
   "source": [
    "#### All 22 FDA Factors:\n",
    "This is the Multivariable Linear Regression modelling for all 22 Food Factor Variables. "
   ]
  },
  {
   "cell_type": "code",
   "execution_count": 32,
   "metadata": {
    "collapsed": false
   },
   "outputs": [
    {
     "name": "stdout",
     "output_type": "stream",
     "text": [
      "Linear Val Scores: \n",
      "[ 0.12539906  0.08805888  0.08495614  0.05877553  0.09871524  0.06831835\n",
      "  0.08374511  0.10097243  0.10458729  0.05324529]\n",
      "Mean Linear Val Score: \n",
      "0.0866773337926\n",
      "\n",
      "Bagging Val Scores: \n",
      "[ 0.70995671  0.6969697   0.67965368  0.74025974  0.68558952  0.66812227\n",
      "  0.66375546  0.6768559   0.66375546  0.68558952]\n",
      "Mean Bagging Val Score: \n",
      "0.687050794911\n",
      "\n",
      "Boosting Val Scores: \n",
      "[ 0.63203463  0.61038961  0.64069264  0.67965368  0.61135371  0.56331878\n",
      "  0.6768559   0.59388646  0.62445415  0.65938865]\n",
      "Mean Boost Val Score: \n",
      "0.629202820469\n"
     ]
    }
   ],
   "source": [
    "ObsetRun = Obset.dropna(how='any')\n",
    "\n",
    "X = ObsetRun[ColNames]\n",
    "y = ObsetRun['median12']\n",
    "\n",
    "x_train, x_test, y_train, y_test = cross_validation.train_test_split(X, y,train_size=.9)\n",
    "\n",
    "X = x_train\n",
    "y = y_train\n",
    "\n",
    "# Create linear regression object\n",
    "linear = linear_model.LinearRegression()\n",
    "\n",
    "#Another model: bagging decision trees\n",
    "bagging = BaggingClassifier(base_estimator=DecisionTreeClassifier(),n_estimators=250)\n",
    "\n",
    "#Another model: boosting decision trees\n",
    "boosting = AdaBoostClassifier(base_estimator=DecisionTreeClassifier(),n_estimators=250)\n",
    "\n",
    "#Cross Validation for multiple results\n",
    "Lin_vals = cross_validation.cross_val_score(linear, x_train, y_train, cv=10)\n",
    "Bag_vals = cross_validation.cross_val_score(bagging, X.values, y.values, cv=10)\n",
    "Boost_vals = cross_validation.cross_val_score(boosting, X.values, y.values,cv=10)\n",
    "\n",
    "# Train the model using the training sets and check score\n",
    "linear.fit(x_train, y_train)\n",
    "linear.score(x_train, y_train)\n",
    "bagging.fit(x_train, y_train)\n",
    "bagging.score(x_train, y_train)\n",
    "boosting.fit(x_train, y_train)\n",
    "boosting.score(x_train, y_train)\n",
    "\n",
    "#Equation coefficient and Intercept\n",
    "#print 'Coefficient: \\n', linear.coef_\n",
    "#print\n",
    "#print 'Intercept: %.4f' % linear.intercept_\n",
    "#print \n",
    "#print 'Variance score: %.4f' % linear.score(x_test, y_test)\n",
    "#print \n",
    "print 'Linear Val Scores: \\n', Lin_vals\n",
    "print 'Mean Linear Val Score: \\n', np.mean(Lin_vals)\n",
    "print \n",
    "print 'Bagging Val Scores: \\n', Bag_vals\n",
    "print 'Mean Bagging Val Score: \\n', np.mean(Bag_vals)\n",
    "print \n",
    "print 'Boosting Val Scores: \\n', Boost_vals\n",
    "print 'Mean Boost Val Score: \\n', np.mean(Boost_vals)"
   ]
  },
  {
   "cell_type": "code",
   "execution_count": 33,
   "metadata": {
    "collapsed": false
   },
   "outputs": [
    {
     "name": "stdout",
     "output_type": "stream",
     "text": [
      "DecisionTreeClassifier: 0.610512833788\n",
      "[[71 44]\n",
      " [58 83]]\n",
      "BaggedTreeClassifier: 0.685820212256\n",
      "[[ 77  38]\n",
      " [ 38 103]]\n",
      "BoostedTreeClassifier: 0.614861617494\n",
      "[[70 45]\n",
      " [61 80]]\n",
      "RandomForestClassifier 5: 0.686674060225\n",
      "[[79 36]\n",
      " [42 99]]\n",
      "RandomForestClassifier 7: 0.701038934627\n",
      "[[80 35]\n",
      " [43 98]]\n",
      "RandomForestClassifier 9: 0.693210000521\n",
      "[[ 79  36]\n",
      " [ 41 100]]\n"
     ]
    }
   ],
   "source": [
    "from sklearn.ensemble import RandomForestClassifier\n",
    "\n",
    "## DecisionTreeClassifier\n",
    "dtree = DecisionTreeClassifier(max_depth=None, min_samples_split=1,random_state=0)\n",
    "scores = cross_validation.cross_val_score(dtree, X.values, y.values,10)\n",
    "print \"DecisionTreeClassifier Max None:\", scores.mean()\n",
    "dtree.fit(x_train, y_train)\n",
    "cm = confusion_matrix(y_test, dtree.predict(x_test))\n",
    "print cm\n",
    "\n",
    "#Decision tree with 1/2 the max depth to prevent over fitting\n",
    "dtree = DecisionTreeClassifier(max_depth=12, min_samples_split=1,random_state=0)\n",
    "scores = cross_validation.cross_val_score(dtree, X.values, y.values)\n",
    "print \"DecisionTreeClassifier Max None:\", scores.mean()\n",
    "dtree.fit(x_train, y_train)\n",
    "cm = confusion_matrix(y_test, dtree.predict(x_test))\n",
    "print cm\n",
    "\n",
    "## Bagged Decision Trees\n",
    "scores = cross_validation.cross_val_score(bagging,X.values, y.values)\n",
    "print \"BaggedTreeClassifier:\", scores.mean()\n",
    "cm = confusion_matrix(y_test, bagging.predict(x_test))\n",
    "print cm\n",
    "\n",
    "## Boosted Decision Trees\n",
    "scores = cross_validation.cross_val_score(boosting, X.values, y.values)\n",
    "print \"BoostedTreeClassifier:\", scores.mean()\n",
    "cm = confusion_matrix(y_test, boosting.predict(x_test))\n",
    "print cm\n",
    "\n",
    "## RandomForestClassifier 5\n",
    "forest = RandomForestClassifier(n_estimators=500,\n",
    "     max_features=5, random_state=0, max_depth=None)\n",
    "scores = cross_validation.cross_val_score(forest, X.values, y.values)\n",
    "print \"RandomForestClassifier 5:\", scores.mean()\n",
    "forest.fit(x_train, y_train)\n",
    "cm = confusion_matrix(y_test, forest.predict(x_test))\n",
    "print cm\n",
    "\n",
    "## RandomForestClassifier 7\n",
    "forest = RandomForestClassifier(n_estimators=500,\n",
    "     max_features=7, random_state=0, max_depth=None)\n",
    "scores = cross_validation.cross_val_score(forest, X.values, y.values)\n",
    "print \"RandomForestClassifier 7:\", scores.mean()\n",
    "forest.fit(x_train, y_train)\n",
    "cm = confusion_matrix(y_test, forest.predict(x_test))\n",
    "print cm\n",
    "\n",
    "## RandomForestClassifier Max\n",
    "maxRF = len(FoodAccess)\n",
    "forest = RandomForestClassifier(n_estimators=500,\n",
    "     max_features=maxRF, random_state=0, max_depth=None)\n",
    "scores = cross_validation.cross_val_score(forest, X.values, y.values)\n",
    "print \"RandomForestClassifier %i:\" % maxRF,scores.mean()\n",
    "forest.fit(x_train, y_train)\n",
    "cm = confusion_matrix(y_test, forest.predict(x_test))\n",
    "print cm"
   ]
  },
  {
   "cell_type": "code",
   "execution_count": 34,
   "metadata": {
    "collapsed": false
   },
   "outputs": [
    {
     "name": "stdout",
     "output_type": "stream",
     "text": [
      "Feature ranking:\n",
      "1. feature FarmersMkts Per County (0.0772687671094)\n",
      "2. feature PCT_LACCESS_POP10 (0.057504554044)\n",
      "3. feature PCT_LACCESS_LOWI10 (0.0574908228099)\n",
      "4. feature PCT_LACCESS_HHNV10 (0.057012744438)\n",
      "5. feature GROCPTH12 (0.056990068884)\n",
      "6. feature SUPERCPTH12 (0.0545176616015)\n",
      "7. feature CONVSPTH12 (0.0541393204549)\n",
      "8. feature SNAPSPTH12 (0.0537021546909)\n",
      "9. feature FFRPTH12 (0.0531241888875)\n",
      "10. feature FSRPTH12 (0.0515552726398)\n",
      "11. feature PC_FFRSALES12 (0.0502329972497)\n",
      "12. feature PC_FSRSALES12 (0.049701279942)\n",
      "13. feature REDEMP_SNAPS12 (0.0495676775848)\n",
      "14. feature PCT_SNAP09 (0.0493010610171)\n",
      "15. feature PC_SNAPBEN10 (0.0476187714876)\n",
      "16. feature SNAP_PART_RATE10 (0.0340208848533)\n",
      "17. feature PCT_NSLP09 (0.0334311132973)\n",
      "18. feature PCT_FREE_LUNCH10 (0.0298105893107)\n",
      "19. feature PCT_REDUCED_LUNCH10 (0.0253038586291)\n",
      "20. feature PCT_SBP09 (0.0233502685305)\n",
      "21. feature FOODINSEC_10_12 (0.0191974564683)\n",
      "22. feature VLFOODSEC_10_12 (0.0151584860697)\n"
     ]
    },
    {
     "data": {
      "image/png": "[encoded data removed]",
      "text/plain": [
       "<matplotlib.figure.Figure at 0x1db69c18>"
      ]
     },
     "metadata": {},
     "output_type": "display_data"
    }
   ],
   "source": [
    "importances = forest.fit(X.values, y.values).feature_importances_\n",
    "std = np.std([tree.feature_importances_ for tree in forest.estimators_], axis=0)\n",
    "indices = np.argsort(importances)[::-1]\n",
    "\n",
    "# Print the feature ranking\n",
    "print(\"Feature ranking:\")\n",
    "\n",
    "for f in range(X.values.shape[1]):\n",
    "    print(\"{0}. feature {1} ({2})\".format(f + 1, ColNames[f], importances[indices[f]]))\n",
    "\n",
    "# Plot the feature importances of the forest\n",
    "plt.figure()\n",
    "plt.title(\"Feature importances\")\n",
    "plt.bar(range(X.values.shape[1]), importances[indices],\n",
    "       color=\"r\", yerr=std[indices], align=\"center\")\n",
    "plt.xticks(range(X.values.shape[1]), indices)\n",
    "plt.xlim([-1, X.values.shape[1]])\n",
    "plt.show()"
   ]
  },
  {
   "cell_type": "markdown",
   "metadata": {},
   "source": [
    "Cross validation  \n",
    "confusion matrix  \n",
    "weighted sum of the variables in the 1/0 graph"
   ]
  },
  {
   "cell_type": "markdown",
   "metadata": {},
   "source": [
    "----"
   ]
  },
  {
   "cell_type": "markdown",
   "metadata": {},
   "source": [
    "###### Food Access Regression Analysis"
   ]
  },
  {
   "cell_type": "code",
   "execution_count": 35,
   "metadata": {
    "collapsed": false
   },
   "outputs": [
    {
     "name": "stdout",
     "output_type": "stream",
     "text": [
      "Linear Val Scores: \n",
      "[ 0.06595371  0.05469615  0.01277063  0.04616428  0.07376093  0.05144456\n",
      "  0.03775776  0.02787214  0.06567975  0.08167758]\n",
      "Mean Linear Val Score: \n",
      "0.0517777500073\n",
      "\n",
      "Bagging Val Scores: \n",
      "[ 0.59565217  0.60869565  0.60434783  0.56521739  0.68695652  0.60869565\n",
      "  0.56521739  0.53913043  0.56331878  0.59825328]\n",
      "Mean Bagging Val Score: \n",
      "0.593548509588\n",
      "\n",
      "Boosting Val Scores: \n",
      "[ 0.53043478  0.6         0.53913043  0.56521739  0.5826087   0.55217391\n",
      "  0.57826087  0.56086957  0.48034934  0.52838428]\n",
      "Mean Boost Val Score: \n",
      "0.551742927663\n"
     ]
    }
   ],
   "source": [
    "ObsetFA = Obset.dropna(how='any')\n",
    "\n",
    "X = ObsetFA[FoodAccess]\n",
    "y = ObsetFA['median12']\n",
    "\n",
    "x_train, x_test, y_train, y_test = cross_validation.train_test_split(X, y,train_size=.9)\n",
    "\n",
    "X = x_train\n",
    "y = y_train\n",
    "\n",
    "# Create linear regression object\n",
    "linear = linear_model.LinearRegression()\n",
    "\n",
    "#Another model: bagging decision trees\n",
    "bagging = BaggingClassifier(base_estimator=DecisionTreeClassifier(),n_estimators=250)\n",
    "\n",
    "#Another model: boosting decision trees\n",
    "boosting = AdaBoostClassifier(base_estimator=DecisionTreeClassifier(),n_estimators=250)\n",
    "\n",
    "#Cross Validation for multiple results\n",
    "Lin_vals = cross_validation.cross_val_score(linear, x_train, y_train, cv=10)\n",
    "Bag_vals = cross_validation.cross_val_score(bagging, X.values, y.values, cv=10)\n",
    "Boost_vals = cross_validation.cross_val_score(boosting, X.values, y.values,cv=10)\n",
    "\n",
    "# Train the model using the training sets and check score\n",
    "linear.fit(x_train, y_train)\n",
    "linear.score(x_train, y_train)\n",
    "bagging.fit(x_train, y_train)\n",
    "bagging.score(x_train, y_train)\n",
    "boosting.fit(x_train, y_train)\n",
    "boosting.score(x_train, y_train)\n",
    "\n",
    "#Equation coefficient and Intercept\n",
    "#print 'Coefficient: \\n', linear.coef_\n",
    "#print\n",
    "#print 'Intercept: %.4f' % linear.intercept_\n",
    "#print \n",
    "#print 'Variance score: %.4f' % linear.score(x_test, y_test)\n",
    "#print \n",
    "print 'Linear Val Scores: \\n', Lin_vals\n",
    "print 'Mean Linear Val Score: \\n', np.mean(Lin_vals)\n",
    "print \n",
    "print 'Bagging Val Scores: \\n', Bag_vals\n",
    "print 'Mean Bagging Val Score: \\n', np.mean(Bag_vals)\n",
    "print \n",
    "print 'Boosting Val Scores: \\n', Boost_vals\n",
    "print 'Mean Boost Val Score: \\n', np.mean(Boost_vals)"
   ]
  },
  {
   "cell_type": "code",
   "execution_count": 36,
   "metadata": {
    "collapsed": false
   },
   "outputs": [
    {
     "name": "stdout",
     "output_type": "stream",
     "text": [
      "DecisionTreeClassifier: 0.537834061286\n",
      "[[67 54]\n",
      " [61 74]]\n",
      "BaggedTreeClassifier: 0.583534523593\n",
      "[[71 50]\n",
      " [49 86]]\n",
      "BoostedTreeClassifier: 0.546535583864\n",
      "[[68 53]\n",
      " [53 82]]\n",
      "RandomForestClassifier 5: 0.581360420609\n",
      "[[66 55]\n",
      " [46 89]]\n",
      "RandomForestClassifier 7: 0.580049826939\n",
      "[[71 50]\n",
      " [49 86]]\n",
      "RandomForestClassifier 9: 0.576570814214\n",
      "[[68 53]\n",
      " [48 87]]\n"
     ]
    }
   ],
   "source": [
    "from sklearn.ensemble import RandomForestClassifier\n",
    "\n",
    "## DecisionTreeClassifier\n",
    "dtree = DecisionTreeClassifier(max_depth=None, min_samples_split=1,random_state=0)\n",
    "scores = cross_validation.cross_val_score(dtree, X.values, y.values)\n",
    "print \"DecisionTreeClassifier:\", scores.mean()\n",
    "dtree.fit(x_train, y_train)\n",
    "cm = confusion_matrix(y_test, dtree.predict(x_test))\n",
    "print cm\n",
    "\n",
    "## Bagged Decision Trees\n",
    "scores = cross_validation.cross_val_score(bagging,X.values, y.values)\n",
    "print \"BaggedTreeClassifier:\", scores.mean()\n",
    "cm = confusion_matrix(y_test, bagging.predict(x_test))\n",
    "print cm\n",
    "\n",
    "## Boosted Decision Trees\n",
    "scores = cross_validation.cross_val_score(boosting, X.values, y.values)\n",
    "print \"BoostedTreeClassifier:\", scores.mean()\n",
    "cm = confusion_matrix(y_test, boosting.predict(x_test))\n",
    "print cm\n",
    "\n",
    "## RandomForestClassifier 5\n",
    "forest = RandomForestClassifier(n_estimators=500,\n",
    "     max_features=5, random_state=0, max_depth=None)\n",
    "scores = cross_validation.cross_val_score(forest, X.values, y.values)\n",
    "print \"RandomForestClassifier 5:\", scores.mean()\n",
    "forest.fit(x_train, y_train)\n",
    "cm = confusion_matrix(y_test, forest.predict(x_test))\n",
    "print cm\n",
    "\n",
    "## RandomForestClassifier 7\n",
    "forest = RandomForestClassifier(n_estimators=500,\n",
    "     max_features=7, random_state=0, max_depth=None)\n",
    "scores = cross_validation.cross_val_score(forest, X.values, y.values)\n",
    "print \"RandomForestClassifier 7:\", scores.mean()\n",
    "forest.fit(x_train, y_train)\n",
    "cm = confusion_matrix(y_test, forest.predict(x_test))\n",
    "print cm\n",
    "\n",
    "## RandomForestClassifier Max\n",
    "maxRF = len(FoodAccess)\n",
    "forest = RandomForestClassifier(n_estimators=500,\n",
    "     max_features=maxRF, random_state=0, max_depth=None)\n",
    "scores = cross_validation.cross_val_score(forest, X.values, y.values)\n",
    "print \"RandomForestClassifier %i:\" % maxRF,scores.mean()\n",
    "forest.fit(x_train, y_train)\n",
    "cm = confusion_matrix(y_test, forest.predict(x_test))\n",
    "print cm"
   ]
  },
  {
   "cell_type": "code",
   "execution_count": 37,
   "metadata": {
    "collapsed": false
   },
   "outputs": [
    {
     "name": "stdout",
     "output_type": "stream",
     "text": [
      "Feature ranking:\n",
      "1. feature FarmersMkts Per County (0.136839375828)\n",
      "2. feature PCT_LACCESS_POP10 (0.12826563214)\n",
      "3. feature PCT_LACCESS_LOWI10 (0.126976661245)\n",
      "4. feature PCT_LACCESS_HHNV10 (0.118005911712)\n",
      "5. feature GROCPTH12 (0.117908558603)\n",
      "6. feature SUPERCPTH12 (0.104079546203)\n",
      "7. feature CONVSPTH12 (0.101214489123)\n",
      "8. feature SNAPSPTH12 (0.0981801383257)\n",
      "9. feature FFRPTH12 (0.0685296868202)\n"
     ]
    },
    {
     "data": {
      "image/png": "[encoded data removed]",
      "text/plain": [
       "<matplotlib.figure.Figure at 0x1db690b8>"
      ]
     },
     "metadata": {},
     "output_type": "display_data"
    }
   ],
   "source": [
    "importances = forest.fit(X.values, y.values).feature_importances_\n",
    "std = np.std([tree.feature_importances_ for tree in forest.estimators_], axis=0)\n",
    "indices = np.argsort(importances)[::-1]\n",
    "\n",
    "# Print the feature ranking\n",
    "print(\"Feature ranking:\")\n",
    "\n",
    "for f in range(X.values.shape[1]):\n",
    "    print(\"{0}. feature {1} ({2})\".format(f + 1, ColNames[f], importances[indices[f]]))\n",
    "\n",
    "# Plot the feature importances of the forest\n",
    "plt.figure()\n",
    "plt.title(\"Feature importances\")\n",
    "plt.bar(range(X.values.shape[1]), importances[indices],\n",
    "       color=\"r\", yerr=std[indices], align=\"center\")\n",
    "plt.xticks(range(X.values.shape[1]), indices)\n",
    "plt.xlim([-1, X.values.shape[1]])\n",
    "plt.show()"
   ]
  },
  {
   "cell_type": "code",
   "execution_count": 44,
   "metadata": {
    "collapsed": false
   },
   "outputs": [
    {
     "data": {
      "image/png": "[encoded data removed]",
      "text/plain": [
       "<matplotlib.figure.Figure at 0x23f16518>"
      ]
     },
     "metadata": {},
     "output_type": "display_data"
    }
   ],
   "source": [
    "n_neighbors = range(1,51,2)\n",
    "\n",
    "scores = []\n",
    "for n in n_neighbors:\n",
    "    model = KNN(n)\n",
    "    model.fit(x_train, y_train)\n",
    "    scores.append(model.score(x_test, y_test))\n",
    "    \n",
    "plt.figure(figsize=(20,8))\n",
    "plt.plot(n_neighbors, scores, linewidth=3.0)\n",
    "plt.show()"
   ]
  },
  {
   "cell_type": "code",
   "execution_count": 45,
   "metadata": {
    "collapsed": false
   },
   "outputs": [],
   "source": [
    "from sklearn import cross_validation\n",
    "\n",
    "K_hold = {}\n",
    "count_n = 0\n",
    "count_f = 0\n",
    "for n in n_neighbors:\n",
    "    model = KNN(n)\n",
    "    count_n += 1\n",
    "    n_scores = cross_validation.cross_val_score(model, x_train, y_train, cv=10) #, scoring='mean_squared_error')\n",
    "    K_hold[count_n] = \"Accuracy: %0.2f (+/- %0.2f)\" % (n_scores.mean(), n_scores.std() * 2)\n",
    "    count_f += 1"
   ]
  },
  {
   "cell_type": "code",
   "execution_count": 47,
   "metadata": {
    "collapsed": false
   },
   "outputs": [
    {
     "name": "stdout",
     "output_type": "stream",
     "text": [
      "Accuracy: 0.59 (+/- 0.08)\n",
      "{1: 'Accuracy: 0.52 (+/- 0.07)', 2: 'Accuracy: 0.55 (+/- 0.08)', 3: 'Accuracy: 0.56 (+/- 0.07)', 4: 'Accuracy: 0.57 (+/- 0.05)', 5: 'Accuracy: 0.56 (+/- 0.04)', 6: 'Accuracy: 0.57 (+/- 0.05)', 7: 'Accuracy: 0.58 (+/- 0.05)', 8: 'Accuracy: 0.58 (+/- 0.05)', 9: 'Accuracy: 0.58 (+/- 0.06)', 10: 'Accuracy: 0.58 (+/- 0.06)', 11: 'Accuracy: 0.58 (+/- 0.04)', 12: 'Accuracy: 0.58 (+/- 0.03)', 13: 'Accuracy: 0.58 (+/- 0.05)', 14: 'Accuracy: 0.58 (+/- 0.05)', 15: 'Accuracy: 0.58 (+/- 0.05)', 16: 'Accuracy: 0.59 (+/- 0.06)', 17: 'Accuracy: 0.58 (+/- 0.06)', 18: 'Accuracy: 0.58 (+/- 0.06)', 19: 'Accuracy: 0.59 (+/- 0.05)', 20: 'Accuracy: 0.59 (+/- 0.06)', 21: 'Accuracy: 0.59 (+/- 0.06)', 22: 'Accuracy: 0.59 (+/- 0.07)', 23: 'Accuracy: 0.59 (+/- 0.07)', 24: 'Accuracy: 0.59 (+/- 0.08)', 25: 'Accuracy: 0.59 (+/- 0.08)'}\n"
     ]
    }
   ],
   "source": [
    "print(\"Accuracy: %0.2f (+/- %0.2f)\" % (n_scores.mean(), n_scores.std() * 2))\n",
    "print K_hold"
   ]
  },
  {
   "cell_type": "code",
   "execution_count": 48,
   "metadata": {
    "collapsed": false
   },
   "outputs": [
    {
     "name": "stdout",
     "output_type": "stream",
     "text": [
      "[array([ 0.50869565,  0.56521739,  0.53913043,  0.57391304,  0.50434783,\n",
      "        0.46956522,  0.52173913,  0.54782609,  0.47161572,  0.49781659]), array([ 0.52173913,  0.62608696,  0.58695652,  0.5826087 ,  0.56521739,\n",
      "        0.50869565,  0.50434783,  0.53478261,  0.50218341,  0.52401747]), array([ 0.54347826,  0.60869565,  0.6173913 ,  0.59130435,  0.56956522,\n",
      "        0.5173913 ,  0.52173913,  0.5173913 ,  0.55458515,  0.55458515]), array([ 0.53913043,  0.57826087,  0.6       ,  0.54782609,  0.58695652,\n",
      "        0.57391304,  0.55217391,  0.52608696,  0.55458515,  0.60262009]), array([ 0.53913043,  0.57391304,  0.54782609,  0.57391304,  0.57826087,\n",
      "        0.56521739,  0.54347826,  0.52608696,  0.54148472,  0.60262009]), array([ 0.53913043,  0.56521739,  0.57391304,  0.60434783,  0.56956522,\n",
      "        0.57826087,  0.54782609,  0.54347826,  0.54148472,  0.62445415]), array([ 0.56086957,  0.5826087 ,  0.6       ,  0.60869565,  0.57391304,\n",
      "        0.59130435,  0.55652174,  0.55217391,  0.54585153,  0.62008734]), array([ 0.56086957,  0.59130435,  0.58695652,  0.6       ,  0.58695652,\n",
      "        0.60869565,  0.55217391,  0.55217391,  0.52401747,  0.6069869 ]), array([ 0.57826087,  0.6173913 ,  0.57391304,  0.61304348,  0.5826087 ,\n",
      "        0.59130435,  0.54782609,  0.55217391,  0.52401747,  0.62445415]), array([ 0.56956522,  0.59565217,  0.57826087,  0.61304348,  0.57391304,\n",
      "        0.59565217,  0.54347826,  0.53478261,  0.5371179 ,  0.61135371]), array([ 0.59130435,  0.59130435,  0.58695652,  0.56956522,  0.5826087 ,\n",
      "        0.6       ,  0.54347826,  0.56956522,  0.54148472,  0.59825328]), array([ 0.59130435,  0.57826087,  0.5826087 ,  0.57391304,  0.5826087 ,\n",
      "        0.59130435,  0.55652174,  0.59130435,  0.54585153,  0.60262009]), array([ 0.5826087 ,  0.56086957,  0.60869565,  0.5826087 ,  0.58695652,\n",
      "        0.61304348,  0.54347826,  0.6       ,  0.54585153,  0.6069869 ]), array([ 0.58695652,  0.58695652,  0.59130435,  0.57391304,  0.57391304,\n",
      "        0.62173913,  0.55217391,  0.56521739,  0.53275109,  0.58515284]), array([ 0.5826087 ,  0.57391304,  0.61304348,  0.57826087,  0.6       ,\n",
      "        0.61304348,  0.53478261,  0.56086957,  0.5371179 ,  0.60262009]), array([ 0.60434783,  0.56521739,  0.63043478,  0.56956522,  0.63043478,\n",
      "        0.61304348,  0.55217391,  0.56086957,  0.54585153,  0.62008734]), array([ 0.59565217,  0.56956522,  0.60869565,  0.5826087 ,  0.62608696,\n",
      "        0.6173913 ,  0.52608696,  0.56521739,  0.54585153,  0.6069869 ]), array([ 0.5826087 ,  0.57826087,  0.60869565,  0.57826087,  0.62173913,\n",
      "        0.60869565,  0.52608696,  0.56521739,  0.54585153,  0.6069869 ]), array([ 0.60869565,  0.59130435,  0.6       ,  0.56956522,  0.6173913 ,\n",
      "        0.6       ,  0.55652174,  0.56086957,  0.55021834,  0.61572052]), array([ 0.61304348,  0.59565217,  0.6       ,  0.56956522,  0.62608696,\n",
      "        0.57826087,  0.53913043,  0.57826087,  0.54585153,  0.61572052]), array([ 0.5826087 ,  0.57826087,  0.6       ,  0.58695652,  0.64782609,\n",
      "        0.58695652,  0.55217391,  0.5826087 ,  0.5371179 ,  0.62008734]), array([ 0.58695652,  0.57826087,  0.6173913 ,  0.58695652,  0.64782609,\n",
      "        0.60869565,  0.52608696,  0.56521739,  0.52838428,  0.61572052]), array([ 0.57391304,  0.5826087 ,  0.62608696,  0.6       ,  0.65217391,\n",
      "        0.60869565,  0.52608696,  0.5826087 ,  0.5371179 ,  0.6069869 ]), array([ 0.57391304,  0.56521739,  0.60434783,  0.61304348,  0.65652174,\n",
      "        0.60434783,  0.52173913,  0.58695652,  0.51965066,  0.62008734]), array([ 0.56956522,  0.58695652,  0.6173913 ,  0.59565217,  0.65652174,\n",
      "        0.60869565,  0.5173913 ,  0.56521739,  0.52401747,  0.62008734])]\n"
     ]
    }
   ],
   "source": [
    "scores=[]\n",
    "for n in n_neighbors:\n",
    "    model = KNN(n)\n",
    "    model.fit(X,y)\n",
    "    scores.append(cross_validation.cross_val_score(model, X, y, cv=10)) #, scoring='mean_squared_error')\n",
    "print scores"
   ]
  },
  {
   "cell_type": "code",
   "execution_count": 49,
   "metadata": {
    "collapsed": false
   },
   "outputs": [
    {
     "name": "stdout",
     "output_type": "stream",
     "text": [
      "[[60 61]\n",
      " [51 84]]\n"
     ]
    }
   ],
   "source": [
    "from sklearn.neighbors import KNeighborsClassifier as KNN\n",
    "from sklearn import metrics\n",
    "model = KNN(13, weights='uniform')\n",
    "model.fit(x_train, y_train)\n",
    "cm = metrics.confusion_matrix(y_test, model.predict(x_test))\n",
    "print cm\n",
    "cross_validation.cross_val_score(model, X, y, cv=10)\n",
    "\n",
    "Boost_vals = cross_validation.cross_val_score(boosting, X.values, y.values,cv=10)"
   ]
  },
  {
   "cell_type": "markdown",
   "metadata": {},
   "source": [
    "###### SocioEconomic Regression Analysis"
   ]
  },
  {
   "cell_type": "code",
   "execution_count": null,
   "metadata": {
    "collapsed": false
   },
   "outputs": [],
   "source": [
    "ObsetSE = Obset.dropna(how='any')\n",
    "\n",
    "X = ObsetSE[SocioEcon]\n",
    "y = ObsetSE['median12']\n",
    "\n",
    "x_train, x_test, y_train, y_test = cross_validation.train_test_split(X, y,train_size=.9)\n",
    "\n",
    "X = x_train\n",
    "y = y_train\n",
    "\n",
    "# Create linear regression object\n",
    "linear = linear_model.LinearRegression()\n",
    "\n",
    "#Another model: bagging decision trees\n",
    "bagging = BaggingClassifier(base_estimator=DecisionTreeClassifier(),n_estimators=250)\n",
    "\n",
    "#Another model: boosting decision trees\n",
    "boosting = AdaBoostClassifier(base_estimator=DecisionTreeClassifier(),n_estimators=250)\n",
    "\n",
    "#Cross Validation for multiple results\n",
    "Lin_vals = cross_validation.cross_val_score(linear, x_train, y_train, cv=10)\n",
    "Bag_vals = cross_validation.cross_val_score(bagging, X.values, y.values, cv=10)\n",
    "Boost_vals = cross_validation.cross_val_score(boosting, X.values, y.values,cv=10)\n",
    "\n",
    "# Train the model using the training sets and check score\n",
    "linear.fit(x_train, y_train)\n",
    "linear.score(x_train, y_train)\n",
    "bagging.fit(x_train, y_train)\n",
    "bagging.score(x_train, y_train)\n",
    "boosting.fit(x_train, y_train)\n",
    "boosting.score(x_train, y_train)\n",
    "\n",
    "#Equation coefficient and Intercept\n",
    "#print 'Coefficient: \\n', linear.coef_\n",
    "#print\n",
    "#print 'Intercept: %.4f' % linear.intercept_\n",
    "#print \n",
    "#print 'Variance score: %.4f' % linear.score(x_test, y_test)\n",
    "#print \n",
    "print 'Linear Val Scores: \\n', Lin_vals\n",
    "print 'Mean Linear Val Score: \\n', np.mean(Lin_vals)\n",
    "print \n",
    "print 'Bagging Val Scores: \\n', Bag_vals\n",
    "print 'Mean Bagging Val Score: \\n', np.mean(Bag_vals)\n",
    "print \n",
    "print 'Boosting Val Scores: \\n', Boost_vals\n",
    "print 'Mean Boost Val Score: \\n', np.mean(Boost_vals)"
   ]
  },
  {
   "cell_type": "code",
   "execution_count": null,
   "metadata": {
    "collapsed": false
   },
   "outputs": [],
   "source": [
    "cm = confusion_matrix(y_test, bagging.predict(x_test))\n",
    "print cm\n",
    "plot_confusion_matrix(cm)"
   ]
  },
  {
   "cell_type": "code",
   "execution_count": null,
   "metadata": {
    "collapsed": false
   },
   "outputs": [],
   "source": [
    "from sklearn.ensemble import RandomForestClassifier\n",
    "\n",
    "## DecisionTreeClassifier\n",
    "dtree = DecisionTreeClassifier(max_depth=None, min_samples_split=1,random_state=0)\n",
    "scores = cross_validation.cross_val_score(dtree, X.values, y.values)\n",
    "print \"DecisionTreeClassifier:\", scores.mean()\n",
    "dtree.fit(x_train, y_train)\n",
    "cm = confusion_matrix(y_test, dtree.predict(x_test))\n",
    "print cm\n",
    "\n",
    "## Bagged Decision Trees\n",
    "scores = cross_validation.cross_val_score(bagging,X.values, y.values)\n",
    "print \"BaggedTreeClassifier:\", scores.mean()\n",
    "cm = confusion_matrix(y_test, bagging.predict(x_test))\n",
    "print cm\n",
    "\n",
    "## Boosted Decision Trees\n",
    "scores = cross_validation.cross_val_score(boosting, X.values, y.values)\n",
    "print \"BoostedTreeClassifier:\", scores.mean()\n",
    "cm = confusion_matrix(y_test, boosting.predict(x_test))\n",
    "print cm\n",
    "\n",
    "## RandomForestClassifier 5\n",
    "forest = RandomForestClassifier(n_estimators=500,\n",
    "     max_features=5, random_state=0, max_depth=None)\n",
    "scores = cross_validation.cross_val_score(forest, X.values, y.values)\n",
    "print \"RandomForestClassifier 5:\", scores.mean()\n",
    "forest.fit(x_train, y_train)\n",
    "cm = confusion_matrix(y_test, forest.predict(x_test))\n",
    "print cm\n",
    "\n",
    "## RandomForestClassifier 7\n",
    "forest = RandomForestClassifier(n_estimators=500,\n",
    "     max_features=7, random_state=0, max_depth=None)\n",
    "scores = cross_validation.cross_val_score(forest, X.values, y.values)\n",
    "print \"RandomForestClassifier 7:\", scores.mean()\n",
    "forest.fit(x_train, y_train)\n",
    "cm = confusion_matrix(y_test, forest.predict(x_test))\n",
    "print cm\n",
    "\n",
    "## RandomForestClassifier Max\n",
    "maxRF = len(FoodAccess)\n",
    "forest = RandomForestClassifier(n_estimators=500,\n",
    "     max_features=maxRF, random_state=0, max_depth=None)\n",
    "scores = cross_validation.cross_val_score(forest, X.values, y.values)\n",
    "print \"RandomForestClassifier %i:\" % maxRF,scores.mean()\n",
    "forest.fit(x_train, y_train)\n",
    "cm = confusion_matrix(y_test, forest.predict(x_test))\n",
    "print cm"
   ]
  },
  {
   "cell_type": "code",
   "execution_count": null,
   "metadata": {
    "collapsed": false
   },
   "outputs": [],
   "source": [
    "importances = forest.fit(X.values, y.values).feature_importances_\n",
    "std = np.std([tree.feature_importances_ for tree in forest.estimators_], axis=0)\n",
    "indices = np.argsort(importances)[::-1]\n",
    "\n",
    "# Print the feature ranking\n",
    "print(\"Feature ranking:\")\n",
    "\n",
    "for f in range(X.values.shape[1]):\n",
    "    print(\"{0}. feature {1} ({2})\".format(f + 1, ColNames[f], importances[indices[f]]))\n",
    "\n",
    "# Plot the feature importances of the forest\n",
    "plt.figure()\n",
    "plt.title(\"Feature importances\")\n",
    "plt.bar(range(X.values.shape[1]), importances[indices],\n",
    "       color=\"r\", yerr=std[indices], align=\"center\")\n",
    "plt.xticks(range(X.values.shape[1]), indices)\n",
    "plt.xlim([-1, X.values.shape[1]])\n",
    "plt.show()"
   ]
  },
  {
   "cell_type": "code",
   "execution_count": null,
   "metadata": {
    "collapsed": false
   },
   "outputs": [],
   "source": [
    "list(X.columns)"
   ]
  },
  {
   "cell_type": "markdown",
   "metadata": {},
   "source": [
    "###### Population Actions Regression Analysis"
   ]
  },
  {
   "cell_type": "code",
   "execution_count": null,
   "metadata": {
    "collapsed": true
   },
   "outputs": [],
   "source": [
    "ObsetPA = Obset.dropna(how='any')\n",
    "\n",
    "X = ObsetPA[PopAct]\n",
    "y = ObsetPA['median12']\n",
    "\n",
    "x_train, x_test, y_train, y_test = cross_validation.train_test_split(X, y,train_size=.9)\n",
    "\n",
    "X = x_train\n",
    "y = y_train\n",
    "\n",
    "# Create linear regression object\n",
    "linear = linear_model.LinearRegression()\n",
    "\n",
    "#Another model: bagging decision trees\n",
    "bagging = BaggingClassifier(base_estimator=DecisionTreeClassifier(),n_estimators=250)\n",
    "\n",
    "#Another model: boosting decision trees\n",
    "boosting = AdaBoostClassifier(base_estimator=DecisionTreeClassifier(),n_estimators=250)\n",
    "\n",
    "#Cross Validation for multiple results\n",
    "Lin_vals = cross_validation.cross_val_score(linear, x_train, y_train, cv=10)\n",
    "Bag_vals = cross_validation.cross_val_score(bagging, X.values, y.values, cv=10)\n",
    "Boost_vals = cross_validation.cross_val_score(boosting, X.values, y.values,cv=10)\n",
    "\n",
    "# Train the model using the training sets and check score\n",
    "linear.fit(x_train, y_train)\n",
    "linear.score(x_train, y_train)\n",
    "bagging.fit(x_train, y_train)\n",
    "bagging.score(x_train, y_train)\n",
    "boosting.fit(x_train, y_train)\n",
    "boosting.score(x_train, y_train)\n",
    "\n",
    "#Equation coefficient and Intercept\n",
    "#print 'Coefficient: \\n', linear.coef_\n",
    "#print\n",
    "#print 'Intercept: %.4f' % linear.intercept_\n",
    "#print \n",
    "#print 'Variance score: %.4f' % linear.score(x_test, y_test)\n",
    "#print \n",
    "print 'Linear Val Scores: \\n', Lin_vals\n",
    "print 'Mean Linear Val Score: \\n', np.mean(Lin_vals)\n",
    "print \n",
    "print 'Bagging Val Scores: \\n', Bag_vals\n",
    "print 'Mean Bagging Val Score: \\n', np.mean(Bag_vals)\n",
    "print \n",
    "print 'Boosting Val Scores: \\n', Boost_vals\n",
    "print 'Mean Boost Val Score: \\n', np.mean(Boost_vals)"
   ]
  },
  {
   "cell_type": "code",
   "execution_count": null,
   "metadata": {
    "collapsed": true
   },
   "outputs": [],
   "source": [
    "from sklearn.ensemble import RandomForestClassifier\n",
    "\n",
    "## DecisionTreeClassifier\n",
    "dtree = DecisionTreeClassifier(max_depth=None, min_samples_split=1,random_state=0)\n",
    "scores = cross_validation.cross_val_score(dtree, X.values, y.values)\n",
    "print \"DecisionTreeClassifier:\", scores.mean()\n",
    "dtree.fit(x_train, y_train)\n",
    "cm = confusion_matrix(y_test, dtree.predict(x_test))\n",
    "print cm\n",
    "\n",
    "## Bagged Decision Trees\n",
    "scores = cross_validation.cross_val_score(bagging,X.values, y.values)\n",
    "print \"BaggedTreeClassifier:\", scores.mean()\n",
    "cm = confusion_matrix(y_test, bagging.predict(x_test))\n",
    "print cm\n",
    "\n",
    "## Boosted Decision Trees\n",
    "scores = cross_validation.cross_val_score(boosting, X.values, y.values)\n",
    "print \"BoostedTreeClassifier:\", scores.mean()\n",
    "cm = confusion_matrix(y_test, boosting.predict(x_test))\n",
    "print cm\n",
    "\n",
    "## RandomForestClassifier Max\n",
    "maxRF = len(FoodAccess)\n",
    "forest = RandomForestClassifier(n_estimators=500,\n",
    "     max_features=maxRF, random_state=0, max_depth=None)\n",
    "scores = cross_validation.cross_val_score(forest, X.values, y.values)\n",
    "print \"RandomForestClassifier %i:\" % maxRF,scores.mean()\n",
    "forest.fit(x_train, y_train)\n",
    "cm = confusion_matrix(y_test, forest.predict(x_test))\n",
    "print cm"
   ]
  },
  {
   "cell_type": "code",
   "execution_count": null,
   "metadata": {
    "collapsed": true
   },
   "outputs": [],
   "source": [
    "importances = forest.fit(X.values, y.values).feature_importances_\n",
    "std = np.std([tree.feature_importances_ for tree in forest.estimators_], axis=0)\n",
    "indices = np.argsort(importances)[::-1]\n",
    "\n",
    "# Print the feature ranking\n",
    "print(\"Feature ranking:\")\n",
    "\n",
    "for f in range(X.values.shape[1]):\n",
    "    print(\"{0}. feature {1} ({2})\".format(f + 1, ColNames[f], importances[indices[f]]))\n",
    "\n",
    "# Plot the feature importances of the forest\n",
    "plt.figure()\n",
    "plt.title(\"Feature importances\")\n",
    "plt.bar(range(X.values.shape[1]), importances[indices],\n",
    "       color=\"r\", yerr=std[indices], align=\"center\")\n",
    "plt.xticks(range(X.values.shape[1]), indices)\n",
    "plt.xlim([-1, X.values.shape[1]])\n",
    "plt.show()"
   ]
  },
  {
   "cell_type": "markdown",
   "metadata": {},
   "source": [
    "###### SNAP Regression Analysis"
   ]
  },
  {
   "cell_type": "code",
   "execution_count": null,
   "metadata": {
    "collapsed": true
   },
   "outputs": [],
   "source": [
    "ObsetSNAP = Obset.dropna(how='any')\n",
    "\n",
    "X = ObsetSNAP[SNAP]\n",
    "y = ObsetSNAP['median12']\n",
    "\n",
    "x_train, x_test, y_train, y_test = cross_validation.train_test_split(X, y,train_size=.9)\n",
    "\n",
    "X = x_train\n",
    "y = y_train\n",
    "\n",
    "# Create linear regression object\n",
    "linear = linear_model.LinearRegression()\n",
    "\n",
    "#Another model: bagging decision trees\n",
    "bagging = BaggingClassifier(base_estimator=DecisionTreeClassifier(),n_estimators=250)\n",
    "\n",
    "#Another model: boosting decision trees\n",
    "boosting = AdaBoostClassifier(base_estimator=DecisionTreeClassifier(),n_estimators=250)\n",
    "\n",
    "#Cross Validation for multiple results\n",
    "Lin_vals = cross_validation.cross_val_score(linear, x_train, y_train, cv=10)\n",
    "Bag_vals = cross_validation.cross_val_score(bagging, X.values, y.values, cv=10)\n",
    "Boost_vals = cross_validation.cross_val_score(boosting, X.values, y.values,cv=10)\n",
    "\n",
    "# Train the model using the training sets and check score\n",
    "linear.fit(x_train, y_train)\n",
    "linear.score(x_train, y_train)\n",
    "bagging.fit(x_train, y_train)\n",
    "bagging.score(x_train, y_train)\n",
    "boosting.fit(x_train, y_train)\n",
    "boosting.score(x_train, y_train)\n",
    "\n",
    "#Equation coefficient and Intercept\n",
    "#print 'Coefficient: \\n', linear.coef_\n",
    "#print\n",
    "#print 'Intercept: %.4f' % linear.intercept_\n",
    "#print \n",
    "#print 'Variance score: %.4f' % linear.score(x_test, y_test)\n",
    "#print \n",
    "print 'Linear Val Scores: \\n', Lin_vals\n",
    "print 'Mean Linear Val Score: \\n', np.mean(Lin_vals)\n",
    "print \n",
    "print 'Bagging Val Scores: \\n', Bag_vals\n",
    "print 'Mean Bagging Val Score: \\n', np.mean(Bag_vals)\n",
    "print \n",
    "print 'Boosting Val Scores: \\n', Boost_vals\n",
    "print 'Mean Boost Val Score: \\n', np.mean(Boost_vals)"
   ]
  },
  {
   "cell_type": "code",
   "execution_count": null,
   "metadata": {
    "collapsed": true
   },
   "outputs": [],
   "source": [
    "from sklearn.ensemble import RandomForestClassifier\n",
    "\n",
    "## DecisionTreeClassifier\n",
    "dtree = DecisionTreeClassifier(max_depth=None, min_samples_split=1,random_state=0)\n",
    "scores = cross_validation.cross_val_score(dtree, X.values, y.values)\n",
    "print \"DecisionTreeClassifier:\", scores.mean()\n",
    "dtree.fit(x_train, y_train)\n",
    "cm = confusion_matrix(y_test, dtree.predict(x_test))\n",
    "print cm\n",
    "\n",
    "## Bagged Decision Trees\n",
    "scores = cross_validation.cross_val_score(bagging,X.values, y.values)\n",
    "print \"BaggedTreeClassifier:\", scores.mean()\n",
    "cm = confusion_matrix(y_test, bagging.predict(x_test))\n",
    "print cm\n",
    "\n",
    "## Boosted Decision Trees\n",
    "scores = cross_validation.cross_val_score(boosting, X.values, y.values)\n",
    "print \"BoostedTreeClassifier:\", scores.mean()\n",
    "cm = confusion_matrix(y_test, boosting.predict(x_test))\n",
    "print cm\n",
    "\n",
    "## RandomForestClassifier Max\n",
    "maxRF = len(FoodAccess)\n",
    "forest = RandomForestClassifier(n_estimators=500,\n",
    "     max_features=maxRF, random_state=0, max_depth=None)\n",
    "scores = cross_validation.cross_val_score(forest, X.values, y.values)\n",
    "print \"RandomForestClassifier %i:\" % maxRF,scores.mean()\n",
    "forest.fit(x_train, y_train)\n",
    "cm = confusion_matrix(y_test, forest.predict(x_test))\n",
    "print cm"
   ]
  },
  {
   "cell_type": "code",
   "execution_count": null,
   "metadata": {
    "collapsed": true
   },
   "outputs": [],
   "source": [
    "importances = forest.fit(X.values, y.values).feature_importances_\n",
    "std = np.std([tree.feature_importances_ for tree in forest.estimators_], axis=0)\n",
    "indices = np.argsort(importances)[::-1]\n",
    "\n",
    "# Print the feature ranking\n",
    "print(\"Feature ranking:\")\n",
    "\n",
    "for f in range(X.values.shape[1]):\n",
    "    print(\"{0}. feature {1} ({2})\".format(f + 1, ColNames[f], importances[indices[f]]))\n",
    "\n",
    "# Plot the feature importances of the forest\n",
    "plt.figure()\n",
    "plt.title(\"Feature importances\")\n",
    "plt.bar(range(X.values.shape[1]), importances[indices],\n",
    "       color=\"r\", yerr=std[indices], align=\"center\")\n",
    "plt.xticks(range(X.values.shape[1]), indices)\n",
    "plt.xlim([-1, X.values.shape[1]])\n",
    "plt.show()"
   ]
  }
 ],
 "metadata": {
  "kernelspec": {
   "display_name": "Python 2",
   "language": "python",
   "name": "python2"
  },
  "language_info": {
   "codemirror_mode": {
    "name": "ipython",
    "version": 2
   },
   "file_extension": ".py",
   "mimetype": "text/x-python",
   "name": "python",
   "nbconvert_exporter": "python",
   "pygments_lexer": "ipython2",
   "version": "2.7.11"
  }
 },
 "nbformat": 4,
 "nbformat_minor": 0
}
